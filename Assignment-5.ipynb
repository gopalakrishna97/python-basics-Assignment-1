{
 "cells": [
  {
   "cell_type": "code",
   "execution_count": 1,
   "id": "215e1f64",
   "metadata": {},
   "outputs": [
    {
     "data": {
      "text/plain": [
       "dict"
      ]
     },
     "execution_count": 1,
     "metadata": {},
     "output_type": "execute_result"
    }
   ],
   "source": [
    "# 1. What does an empty dictionary's code look like?\n",
    "dict = {}\n",
    "type(dict)"
   ]
  },
  {
   "cell_type": "code",
   "execution_count": 2,
   "id": "36b3f2cb",
   "metadata": {},
   "outputs": [
    {
     "data": {
      "text/plain": [
       "{'foo': 42}"
      ]
     },
     "execution_count": 2,
     "metadata": {},
     "output_type": "execute_result"
    }
   ],
   "source": [
    "# 2. What is the value of a dictionary value with the key \"foo\" and the value 42?\n",
    "{\"foo\":42}"
   ]
  },
  {
   "cell_type": "code",
   "execution_count": 3,
   "id": "21f14559",
   "metadata": {},
   "outputs": [],
   "source": [
    "# 3. What is the most significant distinction between a dictionary and a list?\n",
    "#Ans: Most significant difference:\n",
    "#     List - items in list are Ordered\n",
    "#     Dictionary : iten in dictionary are unordered"
   ]
  },
  {
   "cell_type": "code",
   "execution_count": 4,
   "id": "8d80e547",
   "metadata": {},
   "outputs": [
    {
     "ename": "KeyError",
     "evalue": "'foo'",
     "output_type": "error",
     "traceback": [
      "\u001b[1;31m---------------------------------------------------------------------------\u001b[0m",
      "\u001b[1;31mKeyError\u001b[0m                                  Traceback (most recent call last)",
      "Input \u001b[1;32mIn [4]\u001b[0m, in \u001b[0;36m<cell line: 3>\u001b[1;34m()\u001b[0m\n\u001b[0;32m      1\u001b[0m \u001b[38;5;66;03m# 4 What happens if you try to access spam['foo'] if spam is {'bar': 100}?\u001b[39;00m\n\u001b[0;32m      2\u001b[0m spam \u001b[38;5;241m=\u001b[39m {\u001b[38;5;124m'\u001b[39m\u001b[38;5;124mbar\u001b[39m\u001b[38;5;124m'\u001b[39m:\u001b[38;5;241m100\u001b[39m}\n\u001b[1;32m----> 3\u001b[0m \u001b[43mspam\u001b[49m\u001b[43m[\u001b[49m\u001b[38;5;124;43m'\u001b[39;49m\u001b[38;5;124;43mfoo\u001b[39;49m\u001b[38;5;124;43m'\u001b[39;49m\u001b[43m]\u001b[49m\n",
      "\u001b[1;31mKeyError\u001b[0m: 'foo'"
     ]
    }
   ],
   "source": [
    "# 4 What happens if you try to access spam['foo'] if spam is {'bar': 100}?\n",
    "spam = {'bar':100}\n",
    "spam['foo']\n",
    "# as \"foo\" does not exits in spam ,so it will give an error"
   ]
  },
  {
   "cell_type": "code",
   "execution_count": 9,
   "id": "02751fa9",
   "metadata": {},
   "outputs": [
    {
     "name": "stdout",
     "output_type": "stream",
     "text": [
      "True\n",
      "True\n"
     ]
    }
   ],
   "source": [
    "# 5 If a dictionary is stored in spam, what is the difference between the expressions 'cat' in spam and 'cat' in spam.keys()?\n",
    "\n",
    "spam ={'cat':100}\n",
    "print('cat' in spam)\n",
    "\n",
    "print('cat' in spam.keys())\n",
    "\n",
    "# there is no fifference between working of both the statements."
   ]
  },
  {
   "cell_type": "code",
   "execution_count": 12,
   "id": "c7861d4f",
   "metadata": {},
   "outputs": [
    {
     "name": "stdout",
     "output_type": "stream",
     "text": [
      "True\n",
      "False\n"
     ]
    }
   ],
   "source": [
    "# 6 If a dictionary is stored in spam, what is the difference between the expressions 'cat' in spam and 'cat' in spam.values()?\n",
    "spam = {\"cat\":100}\n",
    "print('cat' in spam)\n",
    "print('cat'in spam.values())\n",
    "\n",
    "# 'cat' in spam checks for the key \n",
    "# 'cat' in spam.values() checks whether 'cat' present as values or not"
   ]
  },
  {
   "cell_type": "code",
   "execution_count": 17,
   "id": "3e460263",
   "metadata": {},
   "outputs": [
    {
     "data": {
      "text/plain": [
       "{'dog': 100, 'color': 'black'}"
      ]
     },
     "execution_count": 17,
     "metadata": {},
     "output_type": "execute_result"
    }
   ],
   "source": [
    "# 7. What is a shortcut for the following code?\n",
    "# if \"color\" not in spam:\n",
    "# spam[\"color\"] = \"black\"\n",
    "\n",
    "\n",
    "# Ans \n",
    "spam = {\"dog\":100}\n",
    "spam.setdefault(\"color\",\"black\")\n",
    "spam"
   ]
  },
  {
   "cell_type": "code",
   "execution_count": 20,
   "id": "9e3f10ff",
   "metadata": {},
   "outputs": [
    {
     "name": "stdout",
     "output_type": "stream",
     "text": [
      "[{'Age': '21', 'Country': 'India', 'Name': 'gopal'},\n",
      " {'Age': '33', 'Country': 'China', 'Name': 'alison'},\n",
      " {'Age': '30', 'Country': 'canada', 'Name': 'john'},\n",
      " {'Age': '35', 'Country': 'Aus', 'Name': 'chuck'}]\n"
     ]
    }
   ],
   "source": [
    "# 8. How do you \"pretty print\" dictionary values using which module and function?\n",
    "\n",
    "import pprint\n",
    "dct = [ {'Name': 'gopal', 'Age': '21', 'Country': 'India'},\n",
    "  {'Name': 'alison', 'Age': '33', 'Country': 'China'},\n",
    "  {'Name': 'john', 'Age': '30', 'Country': 'canada'},\n",
    "  {'Name': 'chuck', 'Age': '35', 'Country': 'Aus'}\n",
    "]\n",
    "pprint.pprint(dct)"
   ]
  },
  {
   "cell_type": "code",
   "execution_count": 21,
   "id": "9f8e5717",
   "metadata": {},
   "outputs": [
    {
     "name": "stdout",
     "output_type": "stream",
     "text": [
      "[{'Name': 'gopal', 'Age': '21', 'Country': 'India'}, {'Name': 'alison', 'Age': '33', 'Country': 'China'}, {'Name': 'john', 'Age': '30', 'Country': 'canada'}, {'Name': 'chuck', 'Age': '35', 'Country': 'Aus'}]\n"
     ]
    }
   ],
   "source": [
    "# printing using print()\n",
    "print(dct)"
   ]
  },
  {
   "cell_type": "code",
   "execution_count": null,
   "id": "3d81b610",
   "metadata": {},
   "outputs": [],
   "source": []
  }
 ],
 "metadata": {
  "kernelspec": {
   "display_name": "Python 3 (ipykernel)",
   "language": "python",
   "name": "python3"
  },
  "language_info": {
   "codemirror_mode": {
    "name": "ipython",
    "version": 3
   },
   "file_extension": ".py",
   "mimetype": "text/x-python",
   "name": "python",
   "nbconvert_exporter": "python",
   "pygments_lexer": "ipython3",
   "version": "3.9.12"
  }
 },
 "nbformat": 4,
 "nbformat_minor": 5
}
