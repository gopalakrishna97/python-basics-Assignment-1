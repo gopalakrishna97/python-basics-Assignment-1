{
 "cells": [
  {
   "cell_type": "code",
   "execution_count": 10,
   "id": "68c03587",
   "metadata": {},
   "outputs": [
    {
     "name": "stdout",
     "output_type": "stream",
     "text": [
      "It's good.\n"
     ]
    }
   ],
   "source": [
    "# 1 What are escape characters, and how do you use them?\n",
    "#Ans: In Python strings, the backslash \"\\\" is a special character, also called the \"escape\" character. \n",
    "#     It is used in representing certain whitespace characters: \"\\t\" is a tab, \"\\n\" is a newline, and \"\\r\" is a carriage return\n",
    "\n",
    "text = 'It\\'s good.'\n",
    "print(text) "
   ]
  },
  {
   "cell_type": "code",
   "execution_count": 11,
   "id": "a2917fd5",
   "metadata": {},
   "outputs": [],
   "source": [
    "# 2. What do the escape characters n and t stand for?\n",
    "#Ans:  \"\\t\" is a tab, \"\\n\" is a newline"
   ]
  },
  {
   "cell_type": "code",
   "execution_count": 12,
   "id": "273cafbe",
   "metadata": {},
   "outputs": [
    {
     "name": "stdout",
     "output_type": "stream",
     "text": [
      "its a back slash \\ in a line\n"
     ]
    }
   ],
   "source": [
    "# 3. What is the way to include backslash characters in a string?\n",
    "\n",
    "print('its a back slash \\\\ in a line')"
   ]
  },
  {
   "cell_type": "code",
   "execution_count": 17,
   "id": "c91875b5",
   "metadata": {},
   "outputs": [
    {
     "name": "stdout",
     "output_type": "stream",
     "text": [
      "Howl's Moving Castle\n",
      "Its a \"Nice\" Day\n"
     ]
    }
   ],
   "source": [
    "# The string \"Howl's Moving Castle\" is a correct value. Why isn't the single quote character in the word Howl's not escaped\n",
    "# a problem? The single quote in Howl's is fine because you've used double quotes to mark the beginning and end of the string.\n",
    "# like wise we can use double quotes in with single quotes\n",
    "\n",
    "print(\"Howl\\'s Moving Castle\")\n",
    "\n",
    "# in the same way we can use double quotes inside single quotes.....\n",
    "print('Its a \"Nice\" Day')"
   ]
  },
  {
   "cell_type": "code",
   "execution_count": 21,
   "id": "5a761d43",
   "metadata": {},
   "outputs": [
    {
     "name": "stdout",
     "output_type": "stream",
     "text": [
      "printing something in new line\n",
      "newline\n"
     ]
    }
   ],
   "source": [
    "# 5. How do you write a string of newlines if you don&#39;t want to use the n character?\n",
    "\n",
    "print(\"printing something in new line\",end = '\\n')\n",
    "print(\"newline\")"
   ]
  },
  {
   "cell_type": "code",
   "execution_count": 25,
   "id": "39e4de1c",
   "metadata": {},
   "outputs": [
    {
     "name": "stdout",
     "output_type": "stream",
     "text": [
      "e\n",
      "Hello\n",
      "Hello\n",
      "lo, world!\n"
     ]
    }
   ],
   "source": [
    "#6 What are the values of the given expressions? \n",
    "print('Hello, world!'[1]) \n",
    "print('Hello, world!'[0:5]) \n",
    "print('Hello, world!'[:5]) \n",
    "print('Hello, world!'[3:])"
   ]
  },
  {
   "cell_type": "code",
   "execution_count": 28,
   "id": "47e17e13",
   "metadata": {},
   "outputs": [],
   "source": [
    "# 7. What are the values of the following expressions?\n",
    "# \"Hello\".upper()\n",
    "# \"Hello\".upper().isupper()\n",
    "# \"Hello\".upper().lower()"
   ]
  },
  {
   "cell_type": "code",
   "execution_count": 29,
   "id": "a9fd8376",
   "metadata": {},
   "outputs": [
    {
     "data": {
      "text/plain": [
       "'HELLO'"
      ]
     },
     "execution_count": 29,
     "metadata": {},
     "output_type": "execute_result"
    }
   ],
   "source": [
    "\"Hello\".upper()"
   ]
  },
  {
   "cell_type": "code",
   "execution_count": 30,
   "id": "7fe575cd",
   "metadata": {},
   "outputs": [
    {
     "data": {
      "text/plain": [
       "True"
      ]
     },
     "execution_count": 30,
     "metadata": {},
     "output_type": "execute_result"
    }
   ],
   "source": [
    "\"Hello\".upper().isupper()"
   ]
  },
  {
   "cell_type": "code",
   "execution_count": 31,
   "id": "a0f15a17",
   "metadata": {},
   "outputs": [
    {
     "data": {
      "text/plain": [
       "'hello'"
      ]
     },
     "execution_count": 31,
     "metadata": {},
     "output_type": "execute_result"
    }
   ],
   "source": [
    "\"Hello\".upper().lower()"
   ]
  },
  {
   "cell_type": "code",
   "execution_count": 32,
   "id": "f8da0ca5",
   "metadata": {},
   "outputs": [],
   "source": [
    "#8 What are the values of the following expressions? 'Remember, remember, the fifth of July.'.split() \n",
    "# '-'.join('There can only one.'.split())"
   ]
  },
  {
   "cell_type": "code",
   "execution_count": 33,
   "id": "4f458f6c",
   "metadata": {},
   "outputs": [
    {
     "data": {
      "text/plain": [
       "['Remember,', 'remember,', 'the', 'fifth', 'of', 'July.']"
      ]
     },
     "execution_count": 33,
     "metadata": {},
     "output_type": "execute_result"
    }
   ],
   "source": [
    "'Remember, remember, the fifth of July.'.split() \n"
   ]
  },
  {
   "cell_type": "code",
   "execution_count": 34,
   "id": "d9da3334",
   "metadata": {},
   "outputs": [
    {
     "data": {
      "text/plain": [
       "'There-can-only-one.'"
      ]
     },
     "execution_count": 34,
     "metadata": {},
     "output_type": "execute_result"
    }
   ],
   "source": [
    "'-'.join('There can only one.'.split())\n"
   ]
  },
  {
   "cell_type": "code",
   "execution_count": 39,
   "id": "1e6da299",
   "metadata": {},
   "outputs": [
    {
     "data": {
      "text/plain": [
       "'my name is Gopal##################################'"
      ]
     },
     "execution_count": 39,
     "metadata": {},
     "output_type": "execute_result"
    }
   ],
   "source": [
    "# 9. What are the methods for right-justifying, left-justifying, and centering a string?\n",
    "str = \"my name is Gopal\"\n",
    "\n",
    "str.ljust(50,'#')"
   ]
  },
  {
   "cell_type": "code",
   "execution_count": 41,
   "id": "1abeadc5",
   "metadata": {},
   "outputs": [
    {
     "data": {
      "text/plain": [
       "'##################################my name is Gopal'"
      ]
     },
     "execution_count": 41,
     "metadata": {},
     "output_type": "execute_result"
    }
   ],
   "source": [
    "str.rjust(50,'#')"
   ]
  },
  {
   "cell_type": "code",
   "execution_count": 42,
   "id": "1e65ce63",
   "metadata": {},
   "outputs": [
    {
     "data": {
      "text/plain": [
       "'#################my name is Gopal#################'"
      ]
     },
     "execution_count": 42,
     "metadata": {},
     "output_type": "execute_result"
    }
   ],
   "source": [
    "str.center(50,'#')"
   ]
  },
  {
   "cell_type": "code",
   "execution_count": 43,
   "id": "e8d17ae7",
   "metadata": {},
   "outputs": [
    {
     "data": {
      "text/plain": [
       "\"that's Alright         \""
      ]
     },
     "execution_count": 43,
     "metadata": {},
     "output_type": "execute_result"
    }
   ],
   "source": [
    "# 10. What is the best way to remove whitespace characters from the start or end?\n",
    "\n",
    "str = \"      that's Alright         \"  \n",
    "\n",
    "str.lstrip()"
   ]
  },
  {
   "cell_type": "code",
   "execution_count": 44,
   "id": "6e836b62",
   "metadata": {},
   "outputs": [
    {
     "data": {
      "text/plain": [
       "\"      that's Alright\""
      ]
     },
     "execution_count": 44,
     "metadata": {},
     "output_type": "execute_result"
    }
   ],
   "source": [
    "str.rstrip()"
   ]
  },
  {
   "cell_type": "code",
   "execution_count": null,
   "id": "6b5f3d0c",
   "metadata": {},
   "outputs": [],
   "source": []
  }
 ],
 "metadata": {
  "kernelspec": {
   "display_name": "Python 3 (ipykernel)",
   "language": "python",
   "name": "python3"
  },
  "language_info": {
   "codemirror_mode": {
    "name": "ipython",
    "version": 3
   },
   "file_extension": ".py",
   "mimetype": "text/x-python",
   "name": "python",
   "nbconvert_exporter": "python",
   "pygments_lexer": "ipython3",
   "version": "3.9.12"
  }
 },
 "nbformat": 4,
 "nbformat_minor": 5
}
