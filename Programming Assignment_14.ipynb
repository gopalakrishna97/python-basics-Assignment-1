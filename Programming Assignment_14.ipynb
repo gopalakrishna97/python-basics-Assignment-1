{
 "cells": [
  {
   "cell_type": "markdown",
   "id": "c3f881ef",
   "metadata": {},
   "source": [
    "# Programming Assignment_14"
   ]
  },
  {
   "cell_type": "markdown",
   "id": "26f96cce",
   "metadata": {},
   "source": [
    "#### 1.Define a class with a generator which can iterate the numbers, which are divisible by 7, between a given range 0 and n. ?"
   ]
  },
  {
   "cell_type": "code",
   "execution_count": 3,
   "id": "72acae67",
   "metadata": {},
   "outputs": [
    {
     "name": "stdout",
     "output_type": "stream",
     "text": [
      "0 7 14 21 28 35 42 49 56 63 70 77 84 91 98 105 112 119 126 133 140 147 154 161 168 175 182 189 196 203 210 217 224 231 238 245 252 259 266 273 280 287 294 "
     ]
    }
   ],
   "source": [
    "class DivisibleBySeven:\n",
    "    def __init__(self, n):\n",
    "        self.n = n\n",
    "    \n",
    "    def numbers(self):\n",
    "        for i in range(self.n+1):\n",
    "            if i % 7 == 0:\n",
    "                yield i\n",
    "                \n",
    "output = DivisibleBySeven(300)\n",
    "for ele in output.numbers():\n",
    "    print(ele,end=' ')"
   ]
  },
  {
   "cell_type": "markdown",
   "id": "2eb406d4",
   "metadata": {},
   "source": [
    "#### 2.Write a program to compute the frequency of the words from the input. The output should output after sorting the key alphanumerically. \n",
    "Suppose the following input is supplied to the program:   \n",
    "`New to Python or choosing between Python 2 and Python 3? Read Python 2 or Python 3.`  \n",
    "Then, the output should be:  \n",
    "`2:2 3.:1 3?:1 New:1 Python:5 Read:1 and:1 between:1 choosing:1 or:2 to:1`"
   ]
  },
  {
   "cell_type": "code",
   "execution_count": 4,
   "id": "03ae5610",
   "metadata": {},
   "outputs": [
    {
     "name": "stdout",
     "output_type": "stream",
     "text": [
      "Enter a string: New to Python or choosing between Python 2 and Python 3? Read Python 2 or Python 3.\n",
      "2:2\n",
      "3.:1\n",
      "3?:1\n",
      "New:1\n",
      "Python:5\n",
      "Read:1\n",
      "and:1\n",
      "between:1\n",
      "choosing:1\n",
      "or:2\n",
      "to:1\n"
     ]
    }
   ],
   "source": [
    "from collections import defaultdict\n",
    "\n",
    "input_str = input(\"Enter a string: \")\n",
    "\n",
    "# Split the input string into a list of words\n",
    "words = input_str.split()\n",
    "\n",
    "# Use a defaultdict to count the frequency of each word\n",
    "word_freq = defaultdict(int)\n",
    "for word in words:\n",
    "    word_freq[word] += 1\n",
    "\n",
    "# Sort the keys alphabetically\n",
    "sorted_keys = sorted(word_freq.keys())\n",
    "\n",
    "# Print the results\n",
    "for key in sorted_keys:\n",
    "    print(\"{}:{}\".format(key, word_freq[key]))"
   ]
  },
  {
   "cell_type": "markdown",
   "id": "a5f6f43e",
   "metadata": {},
   "source": [
    "#### 3.Define a class Person and its two child classes: Male and Female. All classes have a method \"getGender\" which can print \"Male\" for Male class and \"Female\" for Female class. ?"
   ]
  },
  {
   "cell_type": "code",
   "execution_count": 5,
   "id": "b28ef752",
   "metadata": {},
   "outputs": [
    {
     "name": "stdout",
     "output_type": "stream",
     "text": [
      "Male\n",
      "Female\n"
     ]
    }
   ],
   "source": [
    "class Person():\n",
    "    def getGender():\n",
    "        pass\n",
    "    \n",
    "class Male(Person):\n",
    "    def getGender():\n",
    "        print(\"Male\")\n",
    "        \n",
    "class Female(Person):\n",
    "    def getGender():\n",
    "        print(\"Female\")\n",
    "\n",
    "Male.getGender()\n",
    "Female.getGender()"
   ]
  },
  {
   "cell_type": "markdown",
   "id": "edf0f4be",
   "metadata": {},
   "source": [
    "#### 4.Please write a program to generate all sentences where subject is in [\"I\", \"You\"] and verb is in [\"Play\", \"Love\"] and the object is in [\"Hockey\",\"Football\"] ?"
   ]
  },
  {
   "cell_type": "code",
   "execution_count": 6,
   "id": "20d6fe7d",
   "metadata": {},
   "outputs": [
    {
     "name": "stdout",
     "output_type": "stream",
     "text": [
      "I Play Hockey\n",
      "I Play Football\n",
      "I Love Hockey\n",
      "I Love Football\n",
      "You Play Hockey\n",
      "You Play Football\n",
      "You Love Hockey\n",
      "You Love Football\n"
     ]
    }
   ],
   "source": [
    "subjects = [\"I\", \"You\"]\n",
    "verbs = [\"Play\", \"Love\"]\n",
    "objects = [\"Hockey\", \"Football\"]\n",
    "\n",
    "for subject in subjects:\n",
    "    for verb in verbs:\n",
    "        for object in objects:\n",
    "            sentence = \"{} {} {}\".format(subject, verb, object)\n",
    "            print(sentence)"
   ]
  },
  {
   "cell_type": "markdown",
   "id": "6e02a631",
   "metadata": {},
   "source": [
    "#### 5.Please write a program to compress and decompress the string \"hello world!hello world!hello world!hello world!\" ?"
   ]
  },
  {
   "cell_type": "code",
   "execution_count": 7,
   "id": "e968e1dd",
   "metadata": {},
   "outputs": [
    {
     "name": "stdout",
     "output_type": "stream",
     "text": [
      "Original string:  hello world!hello world!hello world!hello world!\n",
      "Compressed string:  b'\\x1f\\x8b\\x08\\x00\\xd8a\\xfcc\\x02\\xff\\xcbH\\xcd\\xc9\\xc9W(\\xcf/\\xcaIQ\\xcc \\x82\\r\\x00\\xd3\\xe6\\xcf\\xae0\\x00\\x00\\x00'\n",
      "Decompressed string:  hello world!hello world!hello world!hello world!\n"
     ]
    }
   ],
   "source": [
    "import gzip\n",
    "\n",
    "# Compress the string\n",
    "original_str = \"hello world!hello world!hello world!hello world!\"\n",
    "compressed_str = gzip.compress(original_str.encode('utf-8'))\n",
    "\n",
    "# Decompress the string\n",
    "decompressed_str = gzip.decompress(compressed_str).decode('utf-8')\n",
    "\n",
    "# Print the results\n",
    "print(\"Original string: \", original_str)\n",
    "print(\"Compressed string: \", compressed_str)\n",
    "print(\"Decompressed string: \", decompressed_str)"
   ]
  },
  {
   "cell_type": "markdown",
   "id": "52513bb3",
   "metadata": {},
   "source": [
    "#### 6.Please write a binary search function which searches an item in a sorted list. The function should return the index of element to be searched in the list ?"
   ]
  },
  {
   "cell_type": "code",
   "execution_count": 8,
   "id": "13e747f8",
   "metadata": {},
   "outputs": [
    {
     "name": "stdout",
     "output_type": "stream",
     "text": [
      "13 was found at index 6 in the list.\n"
     ]
    }
   ],
   "source": [
    "def binary_search(arr, item):\n",
    "    \n",
    "    left, right = 0, len(arr) - 1\n",
    "\n",
    "    while left <= right:\n",
    "        mid = (left + right) // 2\n",
    "        if arr[mid] == item:\n",
    "            return mid\n",
    "        elif arr[mid] < item:\n",
    "            left = mid + 1\n",
    "        else:\n",
    "            right = mid - 1\n",
    "\n",
    "    return -1\n",
    "\n",
    "arr = [1, 3, 5, 7, 9, 11, 13, 15, 17, 19]\n",
    "item = 13\n",
    "index = binary_search(arr, item)\n",
    "if index == -1:\n",
    "    print(f\"{item} was not found in the list.\")\n",
    "else:\n",
    "    print(f\"{item} was found at index {index} in the list.\")\n",
    "    "
   ]
  },
  {
   "cell_type": "code",
   "execution_count": null,
   "id": "8059d460",
   "metadata": {},
   "outputs": [],
   "source": []
  }
 ],
 "metadata": {
  "kernelspec": {
   "display_name": "Python 3 (ipykernel)",
   "language": "python",
   "name": "python3"
  },
  "language_info": {
   "codemirror_mode": {
    "name": "ipython",
    "version": 3
   },
   "file_extension": ".py",
   "mimetype": "text/x-python",
   "name": "python",
   "nbconvert_exporter": "python",
   "pygments_lexer": "ipython3",
   "version": "3.9.12"
  }
 },
 "nbformat": 4,
 "nbformat_minor": 5
}
