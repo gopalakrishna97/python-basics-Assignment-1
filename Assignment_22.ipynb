{
 "cells": [
  {
   "cell_type": "markdown",
   "id": "1589c26a",
   "metadata": {},
   "source": [
    "### 1. What is the result of the code, and explain?"
   ]
  },
  {
   "cell_type": "markdown",
   "id": "e3284154",
   "metadata": {},
   "source": [
    "    `>>> X = 'iNeuron'\n",
    "     >>> def func():\n",
    "     print(X)\n",
    "     >>> func()`"
   ]
  },
  {
   "cell_type": "markdown",
   "id": "752c693d",
   "metadata": {},
   "source": [
    "here print function looks for `x` in `func()` function , here `x` is not available in local scope so, it will take the `x` value from global scope"
   ]
  },
  {
   "cell_type": "code",
   "execution_count": 6,
   "id": "ae488c87",
   "metadata": {},
   "outputs": [
    {
     "name": "stdout",
     "output_type": "stream",
     "text": [
      "iNeuron\n"
     ]
    }
   ],
   "source": [
    "    X = 'iNeuron'\n",
    "    def func():\n",
    "        print(X)\n",
    "    func()"
   ]
  },
  {
   "cell_type": "markdown",
   "id": "0f206f26",
   "metadata": {},
   "source": [
    "### 2. What is the result of the code, and explain?\n",
    "\n",
    "```>>> X = 'iNeuron'\n",
    "    >>> def func():\n",
    "    X = 'NI!'\n",
    "    >>> func()\n",
    "    >>> print(X)```"
   ]
  },
  {
   "cell_type": "markdown",
   "id": "ecfb95cf",
   "metadata": {},
   "source": [
    "__Ans__: Here `x` value ids available in the local scope. so, it won't look for global scope . simply it will print the local `x` variable value . that is `NI!`"
   ]
  },
  {
   "cell_type": "code",
   "execution_count": 9,
   "id": "9ab0cf54",
   "metadata": {},
   "outputs": [
    {
     "name": "stdout",
     "output_type": "stream",
     "text": [
      "NI!\n"
     ]
    }
   ],
   "source": [
    "X = 'iNeuron'\n",
    "def func():\n",
    "    X = 'NI!'\n",
    "    print(X)\n",
    "func()"
   ]
  },
  {
   "cell_type": "markdown",
   "id": "8e8e742d",
   "metadata": {},
   "source": [
    "### 3. What does this code print, and why?"
   ]
  },
  {
   "cell_type": "markdown",
   "id": "d14aad87",
   "metadata": {},
   "source": [
    "```>>> X = 'iNeuron'\n",
    "    >>> def func():\n",
    "    X = 'NI'\n",
    "    print(X)\n",
    "    >>> func()\n",
    "    >>> print(X)```"
   ]
  },
  {
   "cell_type": "markdown",
   "id": "cae6fa3e",
   "metadata": {},
   "source": [
    "__Ansd__:Here two `x` variables are available one in local scope and one in global scope, so `print(x)` in `func()` function will print the local `x` variable,,`print(x)` that is out of function will print global `x` variable"
   ]
  },
  {
   "cell_type": "code",
   "execution_count": 11,
   "id": "9b366317",
   "metadata": {},
   "outputs": [
    {
     "name": "stdout",
     "output_type": "stream",
     "text": [
      "NI\n",
      "iNeuron\n"
     ]
    }
   ],
   "source": [
    "X = 'iNeuron'\n",
    "def func():\n",
    "    X = 'NI'\n",
    "    print(X)\n",
    "func()\n",
    "print(X)"
   ]
  },
  {
   "cell_type": "markdown",
   "id": "4e6676a1",
   "metadata": {},
   "source": [
    "### 4. What output does this code produce? Why?"
   ]
  },
  {
   "cell_type": "markdown",
   "id": "acbd8d47",
   "metadata": {},
   "source": [
    "```>>> X = 'iNeuron'\n",
    "    >>> def func():\n",
    "    global X\n",
    "    X = 'NI'\n",
    "    >>> func()\n",
    "    >>> print(X)```"
   ]
  },
  {
   "cell_type": "markdown",
   "id": "707e36cb",
   "metadata": {},
   "source": [
    "__Ans__: here `func()` function is accessing the global variable `x` by using keyword `global` . so when `x = NI` is re-assigned so, it will make change globally "
   ]
  },
  {
   "cell_type": "code",
   "execution_count": 12,
   "id": "dc0b77ec",
   "metadata": {},
   "outputs": [
    {
     "name": "stdout",
     "output_type": "stream",
     "text": [
      "NI\n"
     ]
    }
   ],
   "source": [
    "X = 'iNeuron'\n",
    "def func():\n",
    "    global X\n",
    "    X = 'NI'\n",
    "func()\n",
    "print(X)"
   ]
  },
  {
   "cell_type": "markdown",
   "id": "d0e42491",
   "metadata": {},
   "source": [
    "### 5. What about this code—what’s the output, and why?\n",
    "\n",
    "```>>> X = 'iNeuron'\n",
    "    >>> def func():\n",
    "    X = 'NI'\n",
    "    def nested():\n",
    "    print(X)\n",
    "    nested()\n",
    "    >>> func()\n",
    "    >>> X```"
   ]
  },
  {
   "cell_type": "markdown",
   "id": "9fad2fe7",
   "metadata": {},
   "source": [
    "Ans: The output of the code is NI. the reason for this output is if a function wants to access a variable, if its not available in its localscope. it looks for the variable in its global scope. similarly here also function nested looks for variable X in its global scope. hence the output of the code is NI"
   ]
  },
  {
   "cell_type": "code",
   "execution_count": 13,
   "id": "69e36d4d",
   "metadata": {},
   "outputs": [
    {
     "name": "stdout",
     "output_type": "stream",
     "text": [
      "NI\n"
     ]
    },
    {
     "data": {
      "text/plain": [
       "'iNeuron'"
      ]
     },
     "execution_count": 13,
     "metadata": {},
     "output_type": "execute_result"
    }
   ],
   "source": [
    "X = 'iNeuron'\n",
    "def func():\n",
    "    X = 'NI'\n",
    "    def nested():\n",
    "        print(X)\n",
    "    nested()\n",
    "func()\n",
    "X"
   ]
  },
  {
   "cell_type": "markdown",
   "id": "f5802d0e",
   "metadata": {},
   "source": [
    "### 6. How about this code: what is its output in Python 3, and explain?\n",
    "\n",
    "```>>> def func():\n",
    "   X = 'NI'\n",
    "   def nested():\n",
    "   nonlocal X\n",
    "   X = 'Spam'\n",
    "   nested()    \n",
    "   print(X)\n",
    "   >>> func()```\n"
   ]
  },
  {
   "cell_type": "markdown",
   "id": "c194c017",
   "metadata": {},
   "source": [
    "__Ans:__ The output of the code is Spam. nonlocal keyword in python is used to declare a variable as not local.Hence the statement `X = \"Spam\"` is modified in the global scope. hence the output of `print(X)` statement is `Spam`"
   ]
  },
  {
   "cell_type": "code",
   "execution_count": 14,
   "id": "ec615e6b",
   "metadata": {},
   "outputs": [
    {
     "name": "stdout",
     "output_type": "stream",
     "text": [
      "Spam\n"
     ]
    }
   ],
   "source": [
    "def func():\n",
    "    X = 'NI'\n",
    "    def nested():\n",
    "        nonlocal X\n",
    "        X = 'Spam'\n",
    "    nested()\n",
    "    print(X)\n",
    "func()"
   ]
  }
 ],
 "metadata": {
  "kernelspec": {
   "display_name": "Python 3 (ipykernel)",
   "language": "python",
   "name": "python3"
  },
  "language_info": {
   "codemirror_mode": {
    "name": "ipython",
    "version": 3
   },
   "file_extension": ".py",
   "mimetype": "text/x-python",
   "name": "python",
   "nbconvert_exporter": "python",
   "pygments_lexer": "ipython3",
   "version": "3.9.12"
  }
 },
 "nbformat": 4,
 "nbformat_minor": 5
}
