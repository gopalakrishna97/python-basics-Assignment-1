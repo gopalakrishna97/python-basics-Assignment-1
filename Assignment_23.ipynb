{
 "cells": [
  {
   "cell_type": "markdown",
   "id": "e8ad29b3",
   "metadata": {},
   "source": [
    "### 1. What is the result of the code, and why?\n",
    "\n",
    "```>>> def func(a, b=6, c=8):\n",
    "    print(a, b, c)\n",
    "    >>> func(1, 2)```"
   ]
  },
  {
   "cell_type": "markdown",
   "id": "42896ac4",
   "metadata": {},
   "source": [
    "__Ans__: Here `func()` function takes arguments and two were pre assigned. so, when calling `func(1,2)` it take a=1 , b=2 by over riding the pre assigned value, for `c` there no value given so, it will consider pre assigned value . finally prints `1 2 8`"
   ]
  },
  {
   "cell_type": "code",
   "execution_count": 1,
   "id": "434dd3fd",
   "metadata": {},
   "outputs": [
    {
     "name": "stdout",
     "output_type": "stream",
     "text": [
      "1 2 8\n"
     ]
    }
   ],
   "source": [
    "def func(a,b=6,c=8):\n",
    "    print(a,b,c)\n",
    "func(1,2)"
   ]
  },
  {
   "cell_type": "markdown",
   "id": "b29b88a7",
   "metadata": {},
   "source": [
    "### 2. What is the result of this code, and why?\n",
    "\n",
    "```>>> def func(a, b, c=5):\n",
    "    print(a, b, c)\n",
    "    >>> func(1, c=3, b=2)```"
   ]
  },
  {
   "cell_type": "markdown",
   "id": "74740cee",
   "metadata": {},
   "source": [
    "__Ans:__ here `func(1,c=3,b=2)` is called. it will take `a = 1` and `b = 2` and `c = 3` by over riding the pre assigned value `5`.finally prints `1 2 3`"
   ]
  },
  {
   "cell_type": "code",
   "execution_count": 3,
   "id": "d80db530",
   "metadata": {},
   "outputs": [
    {
     "name": "stdout",
     "output_type": "stream",
     "text": [
      "1 2 3\n"
     ]
    }
   ],
   "source": [
    "def func(a,b,c=5):\n",
    "    print(a,b,c)\n",
    "func(1,c=3,b=2)"
   ]
  },
  {
   "cell_type": "markdown",
   "id": "055638eb",
   "metadata": {},
   "source": [
    "### 3. How about this code: what is its result, and why?\n",
    "\n",
    "```>>> def func(a, *pargs):\n",
    "    print(a, pargs)\n",
    "    >>> func(1, 2, 3)```"
   ]
  },
  {
   "cell_type": "markdown",
   "id": "3fee62ce",
   "metadata": {},
   "source": [
    "__Ans:__ The result of the code is `1 (2,3)`. `*pargs` stands for `variable length arguments`. this format is used when we are not sure about the no of arguments to be passed to a function. all the values under this argument will be stored in a `tuple`."
   ]
  },
  {
   "cell_type": "code",
   "execution_count": 4,
   "id": "ff1483b4",
   "metadata": {},
   "outputs": [
    {
     "name": "stdout",
     "output_type": "stream",
     "text": [
      "1 (2, 3)\n"
     ]
    }
   ],
   "source": [
    "def func(a, *pargs):\n",
    "    print(a,pargs)\n",
    "func(1,2,3)"
   ]
  },
  {
   "cell_type": "markdown",
   "id": "1afb8da7",
   "metadata": {},
   "source": [
    "### 4. What does this code print, and why?\n",
    "\n",
    "```>>> def func(a, **kargs):\n",
    "    print(a, kargs)\n",
    "    >>> func(a=1, c=3, b=2)```"
   ]
  },
  {
   "cell_type": "markdown",
   "id": "544dec1a",
   "metadata": {},
   "source": [
    "__Ans:__ The result of the above code is `1 {'c': 3, 'b': 2}`. `**kargs` stands for variable length keyword arguments. this format is used when we want pass key value pairs as input to a function. All these key value pairs will be stored in a dictionary"
   ]
  },
  {
   "cell_type": "code",
   "execution_count": 6,
   "id": "de7cebd2",
   "metadata": {},
   "outputs": [
    {
     "name": "stdout",
     "output_type": "stream",
     "text": [
      "1 {'c': 3, 'b': 2}\n"
     ]
    }
   ],
   "source": [
    "def func(a,**kargs):\n",
    "    print(a,kargs)\n",
    "func(a=1,c=3,b=2)"
   ]
  },
  {
   "cell_type": "markdown",
   "id": "c45da359",
   "metadata": {},
   "source": [
    "### 5. What gets printed by this, and explain?\n",
    "```>>> def func(a, b, c=8, d=5):\n",
    "    print(a, b, c, d)\n",
    "    >>> func(1, *(5, 6))```"
   ]
  },
  {
   "cell_type": "markdown",
   "id": "3e19e5dc",
   "metadata": {},
   "source": [
    "__Ans__: it will print `1 5 6 5 ` because when `func(1,*(5,6)) ` is called  it takes arguments as follow: `a=1,` `b=5,` `c=6 ` by over riding `8`  `d=5 ` as there is no argument so, it  will consider the pre assigned value"
   ]
  },
  {
   "cell_type": "code",
   "execution_count": 7,
   "id": "9ddfe295",
   "metadata": {},
   "outputs": [
    {
     "name": "stdout",
     "output_type": "stream",
     "text": [
      "1 5 6 5\n"
     ]
    }
   ],
   "source": [
    "def func(a,b,c=8,d=5):\n",
    "    print(a,b,c,d)\n",
    "func(1,*(5,6))"
   ]
  },
  {
   "cell_type": "markdown",
   "id": "c3c0262c",
   "metadata": {},
   "source": [
    "### 6. what is the result of this, and explain?\n",
    "\n",
    "```>>> def func(a, b, c): a = 2; b[0] = 'x'; c['a'] = 'y'\n",
    "    >>> l=1; m=[1]; n={'a':0}\n",
    "    >>> func(l, m, n)\n",
    "    >>> l, m, n```"
   ]
  },
  {
   "cell_type": "markdown",
   "id": "e55a1c06",
   "metadata": {},
   "source": [
    "__Ans:__ The output of above code is 1, ['x'], {'a': 'y'}.\n",
    "\n",
    "    1. Eventhough Python gives importance to indentation. its provides a facility to declare an entire function in one single line. where statements in a function body are sepereated by ;\n",
    "    2. When l,m,n are provided as inputs to the function. its modifies the values of l,m,n and sets the value of l=2 ,m=['x'] and n={'a':'y'}"
   ]
  },
  {
   "cell_type": "code",
   "execution_count": 8,
   "id": "7499c5a2",
   "metadata": {},
   "outputs": [
    {
     "data": {
      "text/plain": [
       "(1, ['x'], {'a': 'y'})"
      ]
     },
     "execution_count": 8,
     "metadata": {},
     "output_type": "execute_result"
    }
   ],
   "source": [
    "def func(a, b, c): a = 2; b[0] = 'x'; c['a'] = 'y'\n",
    "l=1; m=[1]; n={'a':0}\n",
    "func(l, m, n)\n",
    "l,m,n"
   ]
  },
  {
   "cell_type": "code",
   "execution_count": null,
   "id": "cc6b4edc",
   "metadata": {},
   "outputs": [],
   "source": []
  }
 ],
 "metadata": {
  "kernelspec": {
   "display_name": "Python 3 (ipykernel)",
   "language": "python",
   "name": "python3"
  },
  "language_info": {
   "codemirror_mode": {
    "name": "ipython",
    "version": 3
   },
   "file_extension": ".py",
   "mimetype": "text/x-python",
   "name": "python",
   "nbconvert_exporter": "python",
   "pygments_lexer": "ipython3",
   "version": "3.9.12"
  }
 },
 "nbformat": 4,
 "nbformat_minor": 5
}
