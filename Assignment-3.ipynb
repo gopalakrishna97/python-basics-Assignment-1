{
 "cells": [
  {
   "cell_type": "code",
   "execution_count": 1,
   "id": "d3f5f997",
   "metadata": {},
   "outputs": [],
   "source": [
    "# Q1: Why are functions advantageous to have in your programs?\n",
    "\n",
    "\n",
    "# Ans: Functions reduce the need for duplicate code. This makes programs shorter, easier to read, and easier to update."
   ]
  },
  {
   "cell_type": "code",
   "execution_count": 2,
   "id": "6b94eb07",
   "metadata": {},
   "outputs": [],
   "source": [
    "# Q2: When does the code in a function run: when it's specified or when it's called?\n",
    "\n",
    "# Ans: The code in a function executes when the function is called, not when the function is defined."
   ]
  },
  {
   "cell_type": "code",
   "execution_count": 3,
   "id": "3dbcfb3f",
   "metadata": {},
   "outputs": [],
   "source": [
    "# Q3: What statement creates a function?\n",
    "\n",
    "# Ans: The def statement defines, i.e. creates a function."
   ]
  },
  {
   "cell_type": "code",
   "execution_count": 4,
   "id": "413ff024",
   "metadata": {},
   "outputs": [],
   "source": [
    "#Q4: What is the difference between a function and a function call?\n",
    "\n",
    "#Ans: A function consists of the def statement and the code in its def clause.\n",
    "#     A function call is what moves the program execution into the function, \n",
    "#     and the function call evaluates to the function's return value"
   ]
  },
  {
   "cell_type": "code",
   "execution_count": 5,
   "id": "4dae8979",
   "metadata": {},
   "outputs": [],
   "source": [
    "# Q5: How many global scopes are there in a Python program? How many local scopes?\n",
    "\n",
    "# Ans: There is one global scope, and a local scope is created whenever a function is called."
   ]
  },
  {
   "cell_type": "code",
   "execution_count": 6,
   "id": "f5b23461",
   "metadata": {},
   "outputs": [],
   "source": [
    "# Q6: What happens to variables in a local scope when the function call returns?\n",
    "\n",
    "# Ans: When a function returns, the local scope is destroyed, and all the variables in it are forgotten."
   ]
  },
  {
   "cell_type": "code",
   "execution_count": 7,
   "id": "6a68a136",
   "metadata": {},
   "outputs": [],
   "source": [
    "# Q7: What is the concept of a return value? Is it possible to have a return value in an expression?\n",
    "\n",
    "# Ans: A return value is the value that a function call evaluates to. Like any value, \n",
    "#       a return value can be used as part of an expression."
   ]
  },
  {
   "cell_type": "code",
   "execution_count": 8,
   "id": "20504025",
   "metadata": {},
   "outputs": [],
   "source": [
    "# Q8: If a function does not have a return statement, what is the return value of a call to that function?\n",
    "\n",
    "# Ans: If there is no return statement for a function, its return value is None."
   ]
  },
  {
   "cell_type": "code",
   "execution_count": 9,
   "id": "5acc899a",
   "metadata": {},
   "outputs": [],
   "source": [
    "# Q9: How do you make a function variable refer to the global variable?\n",
    "\n",
    "# Ans: A global statement will force a variable in a function to refer to the global variable."
   ]
  },
  {
   "cell_type": "code",
   "execution_count": 10,
   "id": "ace758eb",
   "metadata": {},
   "outputs": [],
   "source": [
    "# Q10: What is the data type of None?\n",
    "\n",
    "# Ans: The data type of None is NoneType."
   ]
  },
  {
   "cell_type": "code",
   "execution_count": 11,
   "id": "e20f46bc",
   "metadata": {},
   "outputs": [],
   "source": [
    "# Q11: What does the sentence import areallyourpetsnamederic do?\n",
    "\n",
    "# Ans: That import statement imports a module named areallyourpetsnamederic."
   ]
  },
  {
   "cell_type": "code",
   "execution_count": 12,
   "id": "42954c59",
   "metadata": {},
   "outputs": [],
   "source": [
    "# Q12: If you had a bacon() feature in a spam module, what would you call it after importing spam?\n",
    "\n",
    "# Ans: This function can be called with spam.bacon()."
   ]
  },
  {
   "cell_type": "code",
   "execution_count": 13,
   "id": "5bb548b1",
   "metadata": {},
   "outputs": [],
   "source": [
    "# Q13: What can you do to save a programme from crashing if it encounters an error?\n",
    "\n",
    "# Ans: Place the line of code that might cause an error in a try clause."
   ]
  },
  {
   "cell_type": "code",
   "execution_count": null,
   "id": "3e81c74f",
   "metadata": {},
   "outputs": [],
   "source": [
    "# Q14: What is the purpose of the try clause? What is the purpose of the except clause?\n",
    "\n",
    "# Ans: The code that could potentially cause an error goes in the try clause. \n",
    "#       The code that executes if an error happens goes in the except clause."
   ]
  }
 ],
 "metadata": {
  "kernelspec": {
   "display_name": "Python 3 (ipykernel)",
   "language": "python",
   "name": "python3"
  },
  "language_info": {
   "codemirror_mode": {
    "name": "ipython",
    "version": 3
   },
   "file_extension": ".py",
   "mimetype": "text/x-python",
   "name": "python",
   "nbconvert_exporter": "python",
   "pygments_lexer": "ipython3",
   "version": "3.9.12"
  }
 },
 "nbformat": 4,
 "nbformat_minor": 5
}
