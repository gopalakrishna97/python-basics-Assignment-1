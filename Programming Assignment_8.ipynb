{
 "cells": [
  {
   "cell_type": "markdown",
   "id": "17231bf3",
   "metadata": {},
   "source": [
    "### 1. Write a Python Program to Add two Matrices ?"
   ]
  },
  {
   "cell_type": "code",
   "execution_count": 6,
   "id": "1ec9a543",
   "metadata": {},
   "outputs": [],
   "source": [
    "def add_matrices(a,b):\n",
    "    print('Inputs: {},{}'.format(a,b))\n",
    "    if len(a) == len(b):\n",
    "        out_matrix = []\n",
    "        for i in range(len(a)):\n",
    "            if len(a[i]) == len(b[i]):\n",
    "                out_matrix.append([])\n",
    "                for j in range(len(a[i])):\n",
    "                    out_matrix[i].append(a[i][j]+b[i][j])\n",
    "            else:\n",
    "                print('Both Matrices must contains same no of rows and columns') \n",
    "    else:\n",
    "        print('Both Matrices must contains same no of rows and columns')\n",
    "    print(f'Output: {out_matrix}')\n"
   ]
  },
  {
   "cell_type": "code",
   "execution_count": 10,
   "id": "3789bee7",
   "metadata": {},
   "outputs": [
    {
     "name": "stdout",
     "output_type": "stream",
     "text": [
      "Inputs: [[2, 5, 8], [8, 4, 8], [2, 5, 7]],[[6, 4, 3], [8, 9, 7], [5, 4, 2]]\n",
      "Output: [[8, 9, 11], [16, 13, 15], [7, 9, 9]]\n"
     ]
    }
   ],
   "source": [
    "add_matrices([[2,5,8],[8,4,8],[2,5,7]],[[6,4,3],[8,9,7],[5,4,2]])"
   ]
  },
  {
   "cell_type": "code",
   "execution_count": 8,
   "id": "8a7e8467",
   "metadata": {},
   "outputs": [
    {
     "name": "stdout",
     "output_type": "stream",
     "text": [
      "Inputs: [[6, 2, 3], [7, 5, 2], [6, 2, 8]],[[1, 6, 4], [8, 2, 4], [6, 8, 7]]\n",
      "Output: [[7, 8, 7], [15, 7, 6], [12, 10, 15]]\n"
     ]
    }
   ],
   "source": [
    "add_matrices([[6,2,3],[7,5,2],[6,2,8]],[[1,6,4],[8,2,4],[6,8,7]])"
   ]
  },
  {
   "cell_type": "markdown",
   "id": "be0cce80",
   "metadata": {},
   "source": [
    "### 2. Write a Python Program to Multiply two Matrices ?"
   ]
  },
  {
   "cell_type": "code",
   "execution_count": 14,
   "id": "297cddbc",
   "metadata": {},
   "outputs": [
    {
     "name": "stdout",
     "output_type": "stream",
     "text": [
      "[[72, 40, 47], [86, 34, 60], [134, 66, 90]]\n"
     ]
    }
   ],
   "source": [
    "\n",
    "def multiply_matrice(a,b):\n",
    "    output = []\n",
    "    if len(a[0]) == len(b):\n",
    "        for ele in range(len(a[0])):\n",
    "            output.append([0 for ele in range(len(b[0]))])\n",
    "        for i in range(len(a)):\n",
    "            for j in range(len(b[0])):\n",
    "                for k in range(len(b)):\n",
    "                    output[i][j] += a[i][k]*b[k][j]\n",
    "        print(output)     \n",
    "    else:\n",
    "        print('Matrix Multiplication is Not Possible')\n",
    "        \n",
    "        \n",
    "a = [[1,6,4],[8,2,4],[6,8,7]]\n",
    "b = [[6,2,3],[7,5,2],[6,2,8]]\n",
    "\n",
    "multiply_matrice(a,b)"
   ]
  },
  {
   "cell_type": "markdown",
   "id": "a29992ba",
   "metadata": {},
   "source": [
    "### 3. Write a Python Program to transpose a Matrix ?"
   ]
  },
  {
   "cell_type": "code",
   "execution_count": 15,
   "id": "7407b358",
   "metadata": {},
   "outputs": [
    {
     "name": "stdout",
     "output_type": "stream",
     "text": [
      "[[1, 2, 3], [4, 5, 6], [7, 8, 9]] -> [[1, 4, 7], [2, 5, 8], [3, 6, 9]]\n",
      "[[1, 2], [4, 5], [7, 8]] -> [[1, 4, 7], [2, 5, 8]]\n",
      "[[1, 2, 3], [4, 5, 6]] -> [[1, 4], [2, 5], [3, 6]]\n"
     ]
    }
   ],
   "source": [
    "a = [[1,2,3],[4,5,6],[7,8,9]]\n",
    "b = [[1,2],[4,5],[7,8]]\n",
    "c = [[1,2,3],[4,5,6]]\n",
    "\n",
    "def generate_transpose(matrix):\n",
    "    Tmatrix = []\n",
    "    for ele in range(len(matrix[0])):\n",
    "        Tmatrix.append([0 for i in range(len(matrix))])\n",
    "    for i in range(len(matrix)):\n",
    "        for j in range(len(matrix[i])):\n",
    "            Tmatrix[j][i] = matrix[i][j]\n",
    "    print(f'{matrix} -> {Tmatrix}')\n",
    "        \n",
    "generate_transpose(a)\n",
    "generate_transpose(b)\n",
    "generate_transpose(c)"
   ]
  },
  {
   "cell_type": "markdown",
   "id": "6ce957f2",
   "metadata": {},
   "source": [
    "### 4. Write a Python Program to sort Words in an Alphabatical Order ?"
   ]
  },
  {
   "cell_type": "code",
   "execution_count": 16,
   "id": "1977748f",
   "metadata": {},
   "outputs": [
    {
     "name": "stdout",
     "output_type": "stream",
     "text": [
      "Enter a String: They speak English at work\n",
      "At English Speak They Work\n"
     ]
    }
   ],
   "source": [
    "def sortString():\n",
    "    in_string = input(\"Enter a String: \").title()\n",
    "    sorted_list = sorted(in_string.split(' '))\n",
    "    print(' '.join(sorted_list))\n",
    "\n",
    "sortString()"
   ]
  },
  {
   "cell_type": "markdown",
   "id": "6aec8e0b",
   "metadata": {},
   "source": [
    "### 5. Write a Python Program to remove Punctuations From a String ?"
   ]
  },
  {
   "cell_type": "code",
   "execution_count": 19,
   "id": "bb85dd05",
   "metadata": {},
   "outputs": [
    {
     "name": "stdout",
     "output_type": "stream",
     "text": [
      "Good morning to all my friends\n"
     ]
    }
   ],
   "source": [
    "\n",
    "def Punctuation(string):\n",
    "\n",
    "    punctuations = '''!()-[]{};:'\"\\,<>./?@#$%^&*_~'''\n",
    "    for x in string.lower():\n",
    "        if x in punctuations:\n",
    "            string = string.replace(x, \"\")\n",
    "    print(string)\n",
    "    \n",
    "string = \"Good???@@##$ morning#$% to %$^all$%^& my /%&$#@#friends\"\n",
    "Punctuation(string)"
   ]
  },
  {
   "cell_type": "code",
   "execution_count": null,
   "id": "1c67dd47",
   "metadata": {},
   "outputs": [],
   "source": []
  }
 ],
 "metadata": {
  "kernelspec": {
   "display_name": "Python 3 (ipykernel)",
   "language": "python",
   "name": "python3"
  },
  "language_info": {
   "codemirror_mode": {
    "name": "ipython",
    "version": 3
   },
   "file_extension": ".py",
   "mimetype": "text/x-python",
   "name": "python",
   "nbconvert_exporter": "python",
   "pygments_lexer": "ipython3",
   "version": "3.9.12"
  }
 },
 "nbformat": 4,
 "nbformat_minor": 5
}
