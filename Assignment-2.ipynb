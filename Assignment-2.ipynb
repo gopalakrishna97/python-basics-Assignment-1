{
 "cells": [
  {
   "cell_type": "code",
   "execution_count": 2,
   "id": "3d9b2888",
   "metadata": {},
   "outputs": [
    {
     "name": "stdout",
     "output_type": "stream",
     "text": [
      "True\n",
      "False\n"
     ]
    }
   ],
   "source": [
    "# Q1.What are the two values of the Boolean data type? How do you write them?\n",
    "\n",
    "    # Ans:- True and False, using capital T and F .\n",
    "\n",
    "# eg:-\n",
    "x=True\n",
    "y=False\n",
    "print(x)\n",
    "print(y)"
   ]
  },
  {
   "cell_type": "code",
   "execution_count": 3,
   "id": "a14630c2",
   "metadata": {},
   "outputs": [],
   "source": [
    "# Q2. What are the three different types of Boolean operators?\n",
    "\n",
    "# Ans :- and, or, and not"
   ]
  },
  {
   "cell_type": "code",
   "execution_count": null,
   "id": "1c7ee80e",
   "metadata": {},
   "outputs": [],
   "source": [
    "# Q3. Make a list of each Boolean operator's truth tables (i.e. every possible combination of Boolean\n",
    "# values for the operator and what it evaluate ).\n",
    "\n",
    "#Ans: True is 1 and False is 0\n",
    "        # Truth Table for AND\n",
    "        # A B output\n",
    "        # 0 0  0\n",
    "        # 0 1  0\n",
    "        # 1 0  0\n",
    "        # 1 1  1\n",
    "        # Truth Table for OR\n",
    "        # A B output\n",
    "        # 0 0  0\n",
    "        # 0 1  1\n",
    "        # 1 0  1\n",
    "        # 1 1  1\n",
    "        # Truth Table for NOT\n",
    "        # A output\n",
    "        # 0  1\n",
    "        # 1  0"
   ]
  },
  {
   "cell_type": "code",
   "execution_count": 8,
   "id": "3d55e200",
   "metadata": {},
   "outputs": [
    {
     "name": "stdout",
     "output_type": "stream",
     "text": [
      "False\n",
      "False\n",
      "True\n",
      "False\n",
      "False\n",
      "True\n"
     ]
    }
   ],
   "source": [
    "# Q4. What are the values of the following expressions?\n",
    "\n",
    "print((5>4) and (3==5))\n",
    "print(not(5>4))\n",
    "print((5>4) or (3==5))\n",
    "print(not(5>4) or (3==5))\n",
    "print((True and True) and (True==False))\n",
    "print((not(False))or(not(True)))"
   ]
  },
  {
   "cell_type": "code",
   "execution_count": 10,
   "id": "98772761",
   "metadata": {},
   "outputs": [],
   "source": [
    "# Q5. What are the six comparison operators?\n",
    "\n",
    " #Ans . ==, !=, <, >, <=, and >="
   ]
  },
  {
   "cell_type": "code",
   "execution_count": 13,
   "id": "adcd0958",
   "metadata": {},
   "outputs": [
    {
     "name": "stdout",
     "output_type": "stream",
     "text": [
      "given values are same\n",
      "12\n"
     ]
    }
   ],
   "source": [
    "# Q6. How do you tell the difference between the equal to and assignment operators?Describe a condition and \n",
    "# when you would use one. == is the equal to operator that compares two values and evaluates to a Boolean,\n",
    "# while = is the assignment operator that stores a value in a variable.\n",
    "\n",
    "#example for comparision operator\n",
    "if(34==34):\n",
    "    print(\"given values are same\")\n",
    "else:\n",
    "    print(\"given numbers are not equal\")\n",
    "    \n",
    "#example for the assignment operator\n",
    "x=12\n",
    "print(x)"
   ]
  },
  {
   "cell_type": "code",
   "execution_count": 16,
   "id": "5f1f2efe",
   "metadata": {},
   "outputs": [
    {
     "name": "stdout",
     "output_type": "stream",
     "text": [
      "ham\n",
      "spam\n",
      "spam\n"
     ]
    }
   ],
   "source": [
    "# Q7. Identify the three blocks in this code:\n",
    "\n",
    "spam = 0\n",
    "if spam == 10:\n",
    "    print(\"eggs\") #block ---1\n",
    "if spam > 5:\n",
    "    print(\"bacon\")  #block ---2\n",
    "else:\n",
    "    print(\"ham\")   #block ---3\n",
    "    print(\"spam\")\n",
    "    print(\"spam\")"
   ]
  },
  {
   "cell_type": "code",
   "execution_count": 17,
   "id": "7ada0f14",
   "metadata": {},
   "outputs": [
    {
     "name": "stdout",
     "output_type": "stream",
     "text": [
      "Input a no.1\n",
      "Hello\n"
     ]
    }
   ],
   "source": [
    "# Q8. Write code that prints Hello if 1 is stored in spam, prints Howdy if 2 is stored in spam,\n",
    "#     and prints Greetings! if anything else is stored in spam.\n",
    "\n",
    "spam = int(input(\"Input a no.\"))\n",
    "if spam == 1:\n",
    "    print(\"Hello\")\n",
    "elif spam == 2:\n",
    "    print(\"Howdy\")\n",
    "else:\n",
    "    print(\"Greetings!\")"
   ]
  },
  {
   "cell_type": "code",
   "execution_count": 18,
   "id": "6f40097c",
   "metadata": {},
   "outputs": [],
   "source": [
    "# Q9.If your programme is stuck in an endless loop, what keys you’ll press?\n",
    "\n",
    "# Ans . If program is stuck in endless loop we will press ctrl+c."
   ]
  },
  {
   "cell_type": "code",
   "execution_count": 20,
   "id": "b9e46cbc",
   "metadata": {},
   "outputs": [
    {
     "name": "stdout",
     "output_type": "stream",
     "text": [
      "0\n",
      "1\n",
      "2\n",
      "3\n",
      "4\n",
      "5\n",
      "6\n",
      "7\n",
      "8\n",
      "Breaked\n",
      "0\n",
      "1\n",
      "2\n",
      "3\n",
      "4\n",
      "5\n",
      "6\n",
      "8\n",
      "9\n"
     ]
    }
   ],
   "source": [
    "# Q10. How can you tell the difference between break and continue?\n",
    "\n",
    "# Ans . The break statement will move the execution outside and just after a loop. \n",
    "#       The continue statement will move the execution to the start of the loop.\n",
    "\n",
    "\n",
    "# use of break\n",
    "for i in range(10):\n",
    "    if(i==9):\n",
    "        break\n",
    "    print(i) \n",
    "print('Breaked')\n",
    "\n",
    "#use of  continue\n",
    "for i in range(10):\n",
    "    if(i==7):\n",
    "        continue\n",
    "    print(i)"
   ]
  },
  {
   "cell_type": "code",
   "execution_count": 22,
   "id": "e8357a68",
   "metadata": {},
   "outputs": [
    {
     "name": "stdout",
     "output_type": "stream",
     "text": [
      "0\n",
      "1\n",
      "2\n",
      "3\n",
      "4\n",
      "5\n",
      "6\n",
      "7\n",
      "8\n",
      "9\n",
      "--------------------------------------------\n",
      "0\n",
      "1\n",
      "2\n",
      "3\n",
      "4\n",
      "5\n",
      "6\n",
      "7\n",
      "8\n",
      "9\n",
      "--------------------------------------------\n",
      "0\n",
      "1\n",
      "2\n",
      "3\n",
      "4\n",
      "5\n",
      "6\n",
      "7\n",
      "8\n",
      "9\n"
     ]
    }
   ],
   "source": [
    "# Q11. In a for loop, what is the difference between range(10), range(0, 10), and range(0, 10, 1)?\n",
    "\n",
    "# Ans :- The range(10) call ranges from 0 up to (but not including) 10,\n",
    "#        range(0, 10) tells the loop to start at 0 till 10 iterations(not includes 10)\n",
    "#        and range(0, 10, 1) tells the loop to increase the variable by 1 on each iteration.\n",
    "\n",
    "for i in range(10):\n",
    "    print(i)\n",
    "print(\"--------------------------------------------\") \n",
    "for i in range(0,10):\n",
    "    print(i)\n",
    "print(\"--------------------------------------------\")\n",
    "for i in range(0,10,1):\n",
    "    print(i)"
   ]
  },
  {
   "cell_type": "code",
   "execution_count": 23,
   "id": "d5efbb49",
   "metadata": {},
   "outputs": [
    {
     "name": "stdout",
     "output_type": "stream",
     "text": [
      "For Loop\n",
      "1\n",
      "2\n",
      "3\n",
      "4\n",
      "5\n",
      "6\n",
      "7\n",
      "8\n",
      "9\n",
      "10\n",
      "While Loop\n",
      "1\n",
      "2\n",
      "3\n",
      "4\n",
      "5\n",
      "6\n",
      "7\n",
      "8\n",
      "9\n",
      "10\n"
     ]
    }
   ],
   "source": [
    "# Q12. Write a short program that prints the numbers 1 to 10 using a for loop. \n",
    "#      Then write an equivalent program that prints the numbers 1 to 10 using a while loop.\n",
    "\n",
    "#Use of For Loop\n",
    "print(\"For Loop\")\n",
    "for i in range(1,11):\n",
    "    print(i)\n",
    "#Use of While Loop\n",
    "print(\"While Loop\")\n",
    "a =1\n",
    "while a <= 10:\n",
    "    print(a)\n",
    "    a+=1"
   ]
  },
  {
   "cell_type": "code",
   "execution_count": null,
   "id": "be763c30",
   "metadata": {},
   "outputs": [],
   "source": [
    "# Q13. If you had a function named bacon() inside a module named spam, how would you call it after importing spam?\n",
    "\n",
    "# This function can be called with spam.bacon()."
   ]
  }
 ],
 "metadata": {
  "kernelspec": {
   "display_name": "Python 3 (ipykernel)",
   "language": "python",
   "name": "python3"
  },
  "language_info": {
   "codemirror_mode": {
    "name": "ipython",
    "version": 3
   },
   "file_extension": ".py",
   "mimetype": "text/x-python",
   "name": "python",
   "nbconvert_exporter": "python",
   "pygments_lexer": "ipython3",
   "version": "3.9.12"
  }
 },
 "nbformat": 4,
 "nbformat_minor": 5
}
