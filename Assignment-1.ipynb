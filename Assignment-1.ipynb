{
 "cells": [
  {
   "cell_type": "code",
   "execution_count": 1,
   "id": "9d41d0bf",
   "metadata": {},
   "outputs": [],
   "source": [
    "# 1. In the below elements which of them are values or an expression? eg:- values can be\n",
    "\n",
    "# integer or string and expressions will be mathematical operators.\n",
    "\n",
    "# *        ----expression\n",
    "\n",
    "# 'hello'  ------value\n",
    "\n",
    "# -87.8    ------value\n",
    "\n",
    "# -    --------------expression\n",
    "\n",
    "# /       -------------------expression \n",
    "\n",
    "# +   ----------------------expression\n",
    "\n",
    "# 6  ---------------------value"
   ]
  },
  {
   "cell_type": "code",
   "execution_count": 2,
   "id": "de0c357c",
   "metadata": {},
   "outputs": [],
   "source": [
    "# 2. What is the difference between string and variable?\n",
    "\n",
    "# String: String can be written in quotes such: \"apple\", 'apple'\n",
    "\n",
    "# Variable: It is the thing in which we can store data just like a container."
   ]
  },
  {
   "cell_type": "code",
   "execution_count": 3,
   "id": "b9284365",
   "metadata": {},
   "outputs": [],
   "source": [
    "# 3. Describe three different data types.\n",
    "\n",
    "# List: the list is used for storing multiple data items in a single variable.\n",
    "\n",
    "# Integer: integer can store only numerical values.\n",
    "\n",
    "# Float: float can store only floating values such as 233.33, 22.2, etc."
   ]
  },
  {
   "cell_type": "code",
   "execution_count": 4,
   "id": "f394dfdc",
   "metadata": {},
   "outputs": [],
   "source": [
    "# 4. What is an expression made up of? What do all expressions do? \n",
    "\n",
    "# Expression is made up of values, containers, and mathematical operators (operands) e.g \n",
    "\n",
    "#      a = 2 + 3     and expressions are used to evaluate the values or represent the result on the screen."
   ]
  },
  {
   "cell_type": "code",
   "execution_count": 5,
   "id": "513665d1",
   "metadata": {},
   "outputs": [],
   "source": [
    "# 5. This assignment statements, like spam = 10. What is the difference between an expression and a statement?\n",
    "\n",
    "# Expression is made up of values, containers, and mathematical operators (operands) and the statement is just like\n",
    "# a command that a python interpreter executes like print."
   ]
  },
  {
   "cell_type": "code",
   "execution_count": 7,
   "id": "eb612071",
   "metadata": {},
   "outputs": [
    {
     "data": {
      "text/plain": [
       "23"
      ]
     },
     "execution_count": 7,
     "metadata": {},
     "output_type": "execute_result"
    }
   ],
   "source": [
    "# 6. After running the following code, what does the variable bacon contain?\n",
    "\n",
    "bacon = 22\n",
    "\n",
    "bacon + 1\n"
   ]
  },
  {
   "cell_type": "code",
   "execution_count": 12,
   "id": "74b74b03",
   "metadata": {},
   "outputs": [
    {
     "name": "stdout",
     "output_type": "stream",
     "text": [
      "spamspamspam\n",
      "spamspamspam\n"
     ]
    }
   ],
   "source": [
    "# 7. What should the values of the following two terms be?\n",
    "\n",
    "print('spam' + 'spamspam')\n",
    "\n",
    "print('spam' * 3)"
   ]
  },
  {
   "cell_type": "code",
   "execution_count": 13,
   "id": "5a6c1ed5",
   "metadata": {},
   "outputs": [],
   "source": [
    "# 8. Why is eggs a valid variable name while 100 is invalid?\n",
    "\n",
    "# Ans: because we can't start giving variable an integer name. if we, we should begin with,\n",
    "# a string-like alphabet name then integer. egg100 or eg100 is valid"
   ]
  },
  {
   "cell_type": "code",
   "execution_count": 14,
   "id": "f9469179",
   "metadata": {},
   "outputs": [],
   "source": [
    "# 9. What three functions can be used to get the integer, floating-point number, or string version of a value?\n",
    "\n",
    "# ans: str(), int(), float()"
   ]
  },
  {
   "cell_type": "code",
   "execution_count": null,
   "id": "dbe658bc",
   "metadata": {},
   "outputs": [],
   "source": [
    "# 10. Why does this expression cause an error? How can you fix it?\n",
    "\n",
    "# 'I have eaten' + 99 + 'burritos' \n",
    "\n",
    "# sol:  because 99 is an integer it cannot be concatenated with strings, if we have to concatenate it we need to do typecasting."
   ]
  }
 ],
 "metadata": {
  "kernelspec": {
   "display_name": "Python 3 (ipykernel)",
   "language": "python",
   "name": "python3"
  },
  "language_info": {
   "codemirror_mode": {
    "name": "ipython",
    "version": 3
   },
   "file_extension": ".py",
   "mimetype": "text/x-python",
   "name": "python",
   "nbconvert_exporter": "python",
   "pygments_lexer": "ipython3",
   "version": "3.9.12"
  }
 },
 "nbformat": 4,
 "nbformat_minor": 5
}
