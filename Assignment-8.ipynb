{
 "cells": [
  {
   "cell_type": "markdown",
   "id": "8a2d0605",
   "metadata": {},
   "source": [
    "# 1. Is the Python Standard Library included with PyInputPlus?\n",
    " No, PyInputPlus is not a part of Python Standard Library, it needs to be installed explicitly using the command\n",
    " !pip install PyInputPlus"
   ]
  },
  {
   "cell_type": "markdown",
   "id": "beabd279",
   "metadata": {},
   "source": [
    "# 2. Why is PyInputPlus commonly imported with import pyinputplus as pypi?\n",
    " Ans: You can import the module with import pyinputplus as pyip so that you can enter\n",
    "     a shorter name when calling the module's functions."
   ]
  },
  {
   "cell_type": "markdown",
   "id": "40684b36",
   "metadata": {},
   "source": [
    "# 3. How do you distinguish between inputInt() and inputFloat()?\n",
    " Ans: inputInt() function Accepts an integer value. This also takes additional parameters min, max, greaterThan and lessThan\n",
    "     for bounds. And it always returns an int.\n",
    "\n",
    "     Whereas inputFloat() function Accepts a floating-point numeric value. this also takes additional min, max, greaterThan \n",
    "     and lessThan parameters. and always returns a float."
   ]
  },
  {
   "cell_type": "markdown",
   "id": "a8ad797c",
   "metadata": {},
   "source": [
    "# 4. Using PyInputPlus, how do you ensure that the user enters a whole number between 0 and 99?\n",
    " Ans: PyInputPlus module provides a function called as inputInt() which only returns only integer values.\n",
    "     inorder to restrict the input between 0 and 99, it use parameters like min & max to ensure that user enters the values\n",
    "     between the defined range only.\n",
    "\n",
    " import pyinputplus as pyip\n",
    " wholenumber = pyip.inputInt(prompt='Enter a number: ', min=0, max=100)\n",
    " print(wholenumber)"
   ]
  },
  {
   "cell_type": "markdown",
   "id": "777eddf1",
   "metadata": {},
   "source": [
    "# 5. What is transferred to the keyword arguments allowRegexes and blockRegexes?\n",
    " Ans: we can use allowRegexes and blockRegexes keyword arguments to take list of regular expression strings\n",
    "     to determine what the pyinputplus function will reject or accept valid input."
   ]
  },
  {
   "cell_type": "markdown",
   "id": "2e43fb28",
   "metadata": {},
   "source": [
    "# 6. If a blank input is entered three times, what does inputStr(limit=3) do?\n",
    " Ans: The statement inputStr(limit=3) will throw two exceptions ValidationException and RetryLimitException.\n",
    "     The first exception is thrown because blank values are not allowed by inputStr() function by default. \n",
    "     it we want to consider blank values as valid input, we have to set blank=True.\n",
    "\n",
    "     The second exception is occured because we have reached the max limit we have specified by using limit parameter.\n",
    "     inorder to avoid this exception we can use default parameter to return a default value when max limit is reached."
   ]
  },
  {
   "cell_type": "markdown",
   "id": "9a2f17e3",
   "metadata": {},
   "source": [
    "# 7. If blank input is entered three times, what does inputStr(limit=3, default='hello') do?\n",
    " Ans: Since the default parameter is set to hello. after blank input is entered three times instead of \n",
    "     raising RetryLimitException exception. the function will return hello as response to the calling function"
   ]
  }
 ],
 "metadata": {
  "kernelspec": {
   "display_name": "Python 3 (ipykernel)",
   "language": "python",
   "name": "python3"
  },
  "language_info": {
   "codemirror_mode": {
    "name": "ipython",
    "version": 3
   },
   "file_extension": ".py",
   "mimetype": "text/x-python",
   "name": "python",
   "nbconvert_exporter": "python",
   "pygments_lexer": "ipython3",
   "version": "3.9.12"
  }
 },
 "nbformat": 4,
 "nbformat_minor": 5
}
