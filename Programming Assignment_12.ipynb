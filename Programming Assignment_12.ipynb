{
 "cells": [
  {
   "cell_type": "markdown",
   "id": "468f3f8e",
   "metadata": {},
   "source": [
    "# Programming Assignment_12\n"
   ]
  },
  {
   "cell_type": "markdown",
   "id": "55223af2",
   "metadata": {},
   "source": [
    "#### 1.Write a Python program to Extract Unique values dictionary values?"
   ]
  },
  {
   "cell_type": "code",
   "execution_count": 2,
   "id": "852980fe",
   "metadata": {},
   "outputs": [
    {
     "name": "stdout",
     "output_type": "stream",
     "text": [
      "dict_values(['ravi', 'raju', 'vishnu', 'komal', 'sharath', 'james', 'james'])\n",
      "Unique Values: ['raju', 'vishnu', 'ravi', 'james', 'komal', 'sharath']\n"
     ]
    }
   ],
   "source": [
    "mydict = {1:'ravi',2:'raju',3:'vishnu',4:'komal',5:'sharath',6:'james',7:'james'}\n",
    "print(in_dict.values())\n",
    "print(f'Unique Values: {list(set(mydict.values()))}')"
   ]
  },
  {
   "cell_type": "markdown",
   "id": "0d0c35f7",
   "metadata": {},
   "source": [
    "#### 2.Write a Python program to find the sum of all items in a dictionary?"
   ]
  },
  {
   "cell_type": "code",
   "execution_count": 3,
   "id": "ee752e0f",
   "metadata": {},
   "outputs": [
    {
     "name": "stdout",
     "output_type": "stream",
     "text": [
      "Sum of All items:  1120\n"
     ]
    }
   ],
   "source": [
    "mydict1 = {'Apple':75,'Mango':21,'Banana':75,'Guava':52,'PineApple':897}\n",
    "print('Sum of All items: ',sum(mydict1.values()))"
   ]
  },
  {
   "cell_type": "markdown",
   "id": "cb796223",
   "metadata": {},
   "source": [
    "#### 3.Write a Python program to Merging two Dictionaries?"
   ]
  },
  {
   "cell_type": "code",
   "execution_count": 4,
   "id": "5511dd57",
   "metadata": {},
   "outputs": [
    {
     "name": "stdout",
     "output_type": "stream",
     "text": [
      "{'name': 'Gopala', 'fullname': 'Gopala Krishna Mallagoni'}\n"
     ]
    }
   ],
   "source": [
    "my_details = {\n",
    "    'name':'Gopala'\n",
    "}\n",
    "full_name = {\n",
    "    'fullname':'Gopala Krishna Mallagoni'\n",
    "}\n",
    "my_details.update(full_name)\n",
    "print(my_details)"
   ]
  },
  {
   "cell_type": "markdown",
   "id": "992c300f",
   "metadata": {},
   "source": [
    "#### 4.Write a Python program to convert key-values list to flat dictionary?"
   ]
  },
  {
   "cell_type": "code",
   "execution_count": 8,
   "id": "43868fea",
   "metadata": {},
   "outputs": [
    {
     "data": {
      "text/plain": [
       "{'name': 'gopala', 'lastname': 'krishna', 'Surname': 'Mallagoni'}"
      ]
     },
     "execution_count": 8,
     "metadata": {},
     "output_type": "execute_result"
    }
   ],
   "source": [
    "list1 = [('name',\"gopala\"),('lastname',\"krishna\"),('Surname',\"Mallagoni\")]\n",
    "\n",
    "dict(list1)"
   ]
  },
  {
   "cell_type": "markdown",
   "id": "42fb8278",
   "metadata": {},
   "source": [
    "#### 5.Write a Python program to insertion at the beginning in OrderedDict?"
   ]
  },
  {
   "cell_type": "code",
   "execution_count": 10,
   "id": "04330ea5",
   "metadata": {},
   "outputs": [
    {
     "name": "stdout",
     "output_type": "stream",
     "text": [
      "OrderedDict([('Apple', 'Iphone'), ('Microsoft', 'Windows'), ('Google', 'chrome')])\n",
      "OrderedDict([('Apple', 'Iphone'), ('Microsoft', 'Windows'), ('Google', 'chrome'), ('Tesla', 'SpaceX')])\n",
      "OrderedDict([('Tesla', 'SpaceX'), ('Apple', 'Iphone'), ('Microsoft', 'Windows'), ('Google', 'chrome')])\n"
     ]
    }
   ],
   "source": [
    "from collections import OrderedDict\n",
    "dict_one = OrderedDict({'Apple':'Iphone','Microsoft':'Windows','Google':'chrome'})\n",
    "print(dict_one)\n",
    "dict_two = {'Tesla':'SpaceX'}\n",
    "dict_one.update(dict_two)\n",
    "print(dict_one)\n",
    "dict_one.move_to_end('Tesla',last=False)\n",
    "print(dict_one)"
   ]
  },
  {
   "cell_type": "markdown",
   "id": "e354d564",
   "metadata": {},
   "source": [
    "#### 6.Write a Python program to check order of character in string using OrderedDict()?"
   ]
  },
  {
   "cell_type": "code",
   "execution_count": 15,
   "id": "f45e3585",
   "metadata": {},
   "outputs": [
    {
     "name": "stdout",
     "output_type": "stream",
     "text": [
      "{'a': 12, 'f': 45, 'd': 50, 'c': 56, 'b': 89, 'e': 45}\n",
      "OrderedDict([('a', 12), ('b', 89), ('c', 56), ('d', 50), ('e', 45), ('f', 45)])\n"
     ]
    }
   ],
   "source": [
    "from collections import OrderedDict\n",
    "\n",
    "dict1 = {'a': 12, 'f': 45, 'd': 50, 'c': 56, 'b': 89, 'e': 45}\n",
    "print(dict1)\n",
    "\n",
    "output = OrderedDict(dict(sorted(dict1.items())))\n",
    "print(output)"
   ]
  },
  {
   "cell_type": "markdown",
   "id": "b37820cf",
   "metadata": {},
   "source": [
    "#### 7.Write a Python program to sort Python Dictionaries by Key or Value?"
   ]
  },
  {
   "cell_type": "code",
   "execution_count": 19,
   "id": "468afc49",
   "metadata": {},
   "outputs": [
    {
     "name": "stdout",
     "output_type": "stream",
     "text": [
      "{'Banana': 60, 'Grape': 13, 'Mango': 100, 'PineApple': 22}\n",
      "{'Grape': 13, 'PineApple': 22, 'Banana': 60, 'Mango': 100}\n"
     ]
    }
   ],
   "source": [
    "d_items = {'Mango':100,'PineApple':22,'Banana':60,'Grape':13}\n",
    "\n",
    "def sort_dict(in_dict,sort_type):\n",
    "    if sort_type == 'key':\n",
    "        print(dict(sorted(in_dict.items(), key=lambda x:x[0], reverse=False)))\n",
    "    else:\n",
    "        print(dict(sorted(in_dict.items(), key=lambda x:x[1], reverse=False)))\n",
    "        \n",
    "sort_dict(d_items,'key')        \n",
    "sort_dict(d_items,'value')"
   ]
  },
  {
   "cell_type": "code",
   "execution_count": null,
   "id": "5a7f1b97",
   "metadata": {},
   "outputs": [],
   "source": []
  }
 ],
 "metadata": {
  "kernelspec": {
   "display_name": "Python 3 (ipykernel)",
   "language": "python",
   "name": "python3"
  },
  "language_info": {
   "codemirror_mode": {
    "name": "ipython",
    "version": 3
   },
   "file_extension": ".py",
   "mimetype": "text/x-python",
   "name": "python",
   "nbconvert_exporter": "python",
   "pygments_lexer": "ipython3",
   "version": "3.9.12"
  }
 },
 "nbformat": 4,
 "nbformat_minor": 5
}
