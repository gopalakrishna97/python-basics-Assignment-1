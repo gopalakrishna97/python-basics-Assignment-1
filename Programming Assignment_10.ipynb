{
 "cells": [
  {
   "cell_type": "markdown",
   "id": "e9f470c4",
   "metadata": {},
   "source": [
    "### 1.Write a Python Program to find sum of elements in a list ?"
   ]
  },
  {
   "cell_type": "code",
   "execution_count": 2,
   "id": "0f462f44",
   "metadata": {},
   "outputs": [
    {
     "name": "stdout",
     "output_type": "stream",
     "text": [
      "Enter the No of Entries in a List: 5\n",
      "Enter a element: 1\n",
      "Enter a element: 2\n",
      "Enter a element: 3\n",
      "Enter a element: 4\n",
      "Enter a element: 5\n",
      "Sum of Elements: 15\n"
     ]
    }
   ],
   "source": [
    "def sum_List():\n",
    "    len_list = int(input('Enter the No of Entries in a List: '))\n",
    "    my_list = []\n",
    "    for itr in range(len_list):\n",
    "        my_list.append(int(input('Enter a element: ')))\n",
    "    print(f'Sum of Elements: {sum(my_list)}')\n",
    "\n",
    "sum_List()"
   ]
  },
  {
   "cell_type": "markdown",
   "id": "68fde002",
   "metadata": {},
   "source": [
    "### 2.Write a Python Program to multiply all numbers in the list ?"
   ]
  },
  {
   "cell_type": "code",
   "execution_count": 1,
   "id": "3b667ff6",
   "metadata": {},
   "outputs": [
    {
     "name": "stdout",
     "output_type": "stream",
     "text": [
      "8640\n"
     ]
    }
   ],
   "source": [
    "my_list = [3,2,3,5,4,6,4,]\n",
    "\n",
    "mul = 1\n",
    "for ele in my_list:\n",
    "    mul = mul * ele\n",
    "print(mul)"
   ]
  },
  {
   "cell_type": "markdown",
   "id": "c0e53abe",
   "metadata": {},
   "source": [
    "### 3.Write a Python Program to find smallest number in the list ?"
   ]
  },
  {
   "cell_type": "code",
   "execution_count": 3,
   "id": "1d27dd9f",
   "metadata": {},
   "outputs": [
    {
     "name": "stdout",
     "output_type": "stream",
     "text": [
      "smallest number in the list is 2\n"
     ]
    }
   ],
   "source": [
    "my_list = [3,2,3,5,4,6,4,]\n",
    "\n",
    "print(f'smallest number in the list is {min(my_list)}')"
   ]
  },
  {
   "cell_type": "markdown",
   "id": "09b5b7d2",
   "metadata": {},
   "source": [
    "### 4.Write a Python Program to find largest number in the list ?"
   ]
  },
  {
   "cell_type": "code",
   "execution_count": 5,
   "id": "91f682b2",
   "metadata": {},
   "outputs": [
    {
     "name": "stdout",
     "output_type": "stream",
     "text": [
      "largest number in the list is 6\n"
     ]
    }
   ],
   "source": [
    "my_list = [3,2,3,5,4,6,4,]\n",
    "\n",
    "print(f'largest number in the list is {max(my_list)}')"
   ]
  },
  {
   "cell_type": "markdown",
   "id": "cc19b25e",
   "metadata": {},
   "source": [
    "### 5.Write a Python Program to find second largest number in the list ?"
   ]
  },
  {
   "cell_type": "code",
   "execution_count": 6,
   "id": "c4ffca12",
   "metadata": {},
   "outputs": [
    {
     "name": "stdout",
     "output_type": "stream",
     "text": [
      "second largest number in the list is 5\n"
     ]
    }
   ],
   "source": [
    "my_list = [3,2,3,5,4,6,4,]\n",
    "\n",
    "print(f'second largest number in the list is {sorted(my_list)[-2]}')"
   ]
  },
  {
   "cell_type": "markdown",
   "id": "afeac16d",
   "metadata": {},
   "source": [
    "### 6.Write a Python Program to find N largest elements in the list ?"
   ]
  },
  {
   "cell_type": "code",
   "execution_count": 12,
   "id": "85957754",
   "metadata": {},
   "outputs": [
    {
     "name": "stdout",
     "output_type": "stream",
     "text": [
      "enter n to see n largest numbers :6\n",
      "n largest numbers in the list is [3, 3, 4, 4, 5, 6]\n"
     ]
    }
   ],
   "source": [
    "nLarge_nums = int(input('enter n to see n largest numbers :'))\n",
    "my_list = [3,2,3,5,4,6,4,]\n",
    "\n",
    "print(f'n largest numbers in the list is {sorted(my_list)[-nLarge_nums:]}')"
   ]
  },
  {
   "cell_type": "markdown",
   "id": "7d49abaa",
   "metadata": {},
   "source": [
    "### 7.Write a Python Program to find even numbers in the list ?"
   ]
  },
  {
   "cell_type": "code",
   "execution_count": 15,
   "id": "bba61835",
   "metadata": {},
   "outputs": [
    {
     "data": {
      "text/plain": [
       "[2, 4, 6, 4]"
      ]
     },
     "execution_count": 15,
     "metadata": {},
     "output_type": "execute_result"
    }
   ],
   "source": [
    "my_list = [3,2,3,5,4,6,4,]\n",
    "even_nums = []\n",
    "for i in my_list:\n",
    "    if i%2 == 0:\n",
    "        even_nums.append(i)\n",
    "even_nums"
   ]
  },
  {
   "cell_type": "markdown",
   "id": "7c863c7a",
   "metadata": {},
   "source": [
    "### 8.Write a Python Program to find odd numbers in the list ?"
   ]
  },
  {
   "cell_type": "code",
   "execution_count": 16,
   "id": "744285f9",
   "metadata": {},
   "outputs": [
    {
     "data": {
      "text/plain": [
       "[3, 3, 5]"
      ]
     },
     "execution_count": 16,
     "metadata": {},
     "output_type": "execute_result"
    }
   ],
   "source": [
    "my_list = [3,2,3,5,4,6,4,]\n",
    "even_nums = []\n",
    "for i in my_list:\n",
    "    if i%2 != 0:\n",
    "        even_nums.append(i)\n",
    "even_nums"
   ]
  },
  {
   "cell_type": "markdown",
   "id": "5d1ba3ae",
   "metadata": {},
   "source": [
    "### 9.Write a Python Program to remove empty list from list ?"
   ]
  },
  {
   "cell_type": "code",
   "execution_count": 19,
   "id": "e06361ed",
   "metadata": {},
   "outputs": [
    {
     "name": "stdout",
     "output_type": "stream",
     "text": [
      "The original list is : [3, 2, [], 3, 5, [], 4, 6, [], 4]\n",
      "List after removing empty list  : [3, 2, 3, 5, 4, 6, 4]\n"
     ]
    }
   ],
   "source": [
    "my_list = [3,2,[],3,5,[],4,6,[],4,]\n",
    "\n",
    "print(\"The original list is : \" + str(my_list))\n",
    " \n",
    "res = [ele for ele in my_list if ele != []]\n",
    "\n",
    "print(\"List after removing empty list  : \" + str(res))"
   ]
  },
  {
   "cell_type": "markdown",
   "id": "426a9dc1",
   "metadata": {},
   "source": [
    "###  10.Write a Python Program to Cloning or Copying a list ?"
   ]
  },
  {
   "cell_type": "code",
   "execution_count": 20,
   "id": "4ddc107c",
   "metadata": {},
   "outputs": [
    {
     "name": "stdout",
     "output_type": "stream",
     "text": [
      "Enter a list[2,3,2,6,5,4,9,87,7,89,9,7,5,2,1,3,1,2,]\n",
      "[2, 3, 2, 6, 5, 4, 9, 87, 7, 89, 9, 7, 5, 2, 1, 3, 1, 2] 2733010891520\n",
      "[2, 3, 2, 6, 5, 4, 9, 87, 7, 89, 9, 7, 5, 2, 1, 3, 1, 2] 2733011002112\n"
     ]
    }
   ],
   "source": [
    "import copy\n",
    "\n",
    "def cloneList():\n",
    "    in_list = eval(input('Enter a list'))\n",
    "    print(in_list, id(in_list))\n",
    "    cloned_list = in_list.copy()\n",
    "    print(cloned_list, id(cloned_list))\n",
    "\n",
    "cloneList()"
   ]
  },
  {
   "cell_type": "markdown",
   "id": "4f9c28ff",
   "metadata": {},
   "source": [
    "### 11.Write a Python Program to count occurences of an element in a list ?"
   ]
  },
  {
   "cell_type": "code",
   "execution_count": 24,
   "id": "1134f85d",
   "metadata": {},
   "outputs": [
    {
     "name": "stdout",
     "output_type": "stream",
     "text": [
      "Enter the elements of the list: [5,6,5,4,6,5,8,5,4,6,5,2]\n",
      "Enter the element to find: 5\n",
      "There are 5 occurences of 5 in [5, 6, 5, 4, 6, 5, 8, 5, 4, 6, 5, 2]\n"
     ]
    }
   ],
   "source": [
    "def checkOccurence():\n",
    "    my_list = eval(input('Enter the elements of the list: '))\n",
    "    num = eval(input('Enter the element to find: '))\n",
    "    count = 0\n",
    "    if num in my_list:\n",
    "        for ele in my_list:\n",
    "            if ele == num:\n",
    "                count = count+1\n",
    "    print(f'There are {count} occurences of {num} in {my_list}')\n",
    "    \n",
    "checkOccurence()"
   ]
  },
  {
   "cell_type": "code",
   "execution_count": null,
   "id": "af5a4935",
   "metadata": {},
   "outputs": [],
   "source": []
  }
 ],
 "metadata": {
  "kernelspec": {
   "display_name": "Python 3 (ipykernel)",
   "language": "python",
   "name": "python3"
  },
  "language_info": {
   "codemirror_mode": {
    "name": "ipython",
    "version": 3
   },
   "file_extension": ".py",
   "mimetype": "text/x-python",
   "name": "python",
   "nbconvert_exporter": "python",
   "pygments_lexer": "ipython3",
   "version": "3.9.12"
  }
 },
 "nbformat": 4,
 "nbformat_minor": 5
}
