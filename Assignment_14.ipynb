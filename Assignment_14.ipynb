{
 "cells": [
  {
   "cell_type": "markdown",
   "id": "8b5abd2b",
   "metadata": {},
   "source": [
    "# 1. What does RGBA stand for?\n",
    "An RGBA value is a group of numbers that specify the amount of red, green, blue, and alpha (or transparency) in a color."
   ]
  },
  {
   "cell_type": "markdown",
   "id": "94753e73",
   "metadata": {},
   "source": [
    "# 2. From the Pillow module, how do you get the RGBA value of any images?\n",
    "ImageColor.getcolor() gives rgba value of any image."
   ]
  },
  {
   "cell_type": "markdown",
   "id": "2d948a70",
   "metadata": {},
   "source": [
    "# 3. What is a box tuple, and how does it work?\n",
    "__Ans__: A box tuple is a tuple value of four integers: the left-edge x-coordinate, the top-edge y-coordinate,the width, and the height, respectively."
   ]
  },
  {
   "cell_type": "markdown",
   "id": "39b8b946",
   "metadata": {},
   "source": [
    "# 4. Use your image and load in notebook then, How can you find out the width and height of an Image object?"
   ]
  },
  {
   "cell_type": "code",
   "execution_count": 1,
   "id": "60c597bd",
   "metadata": {},
   "outputs": [
    {
     "name": "stdout",
     "output_type": "stream",
     "text": [
      "Width, Height -> (1029, 1280)\n",
      "Width, Height -> 1029,1280\n",
      "Width, Height -> 1029,1280\n"
     ]
    }
   ],
   "source": [
    "#Example Program\n",
    "from PIL import Image\n",
    "pic = Image.open('myphoto.jpeg')\n",
    "print(f'Width, Height -> {pic.size}') # Approach 1\n",
    "print(f'Width, Height -> {pic.width},{pic.height}') # Approach 2\n",
    "width,height = pic.size\n",
    "print(f'Width, Height -> {width},{height}') # Approach 3"
   ]
  },
  {
   "cell_type": "markdown",
   "id": "423d3122",
   "metadata": {},
   "source": [
    "# 5. What method would you call to get Image object for a 100×100 image, excluding the lower-left quarter of it?"
   ]
  },
  {
   "cell_type": "code",
   "execution_count": 4,
   "id": "ef748ecd",
   "metadata": {},
   "outputs": [],
   "source": [
    "from PIL import Image\n",
    "img = Image.open('myphoto.jpeg')\n",
    "new_img = img.crop((0,50,50,50))"
   ]
  },
  {
   "cell_type": "markdown",
   "id": "719e95eb",
   "metadata": {},
   "source": [
    "# 6. After making changes to an Image object, how could you save it as an image file?"
   ]
  },
  {
   "cell_type": "code",
   "execution_count": null,
   "id": "aa6d7656",
   "metadata": {},
   "outputs": [],
   "source": [
    "#Example Program\n",
    "from PIL import Image\n",
    "pic = Image.open('pic.jpg')\n",
    "pic.save('pic2.jpg')"
   ]
  },
  {
   "cell_type": "markdown",
   "id": "e26063dd",
   "metadata": {},
   "source": [
    "# 7. What module contains Pillow’s shape-drawing code?\n",
    "__Ans__: Pillows ImageDraw module contains Shape drawing methods"
   ]
  },
  {
   "cell_type": "markdown",
   "id": "2a7bd50c",
   "metadata": {},
   "source": [
    "# 8. Image objects do not have drawing methods. What kind of object does? How do you get this kind of object?\n",
    "__Ans__: ImageDraw objects have shape-drawing methods such as __point()__, __line()__, or __rectangle()__.They are returned by passing the Image object to the __ImageDraw.Draw()__ function."
   ]
  }
 ],
 "metadata": {
  "kernelspec": {
   "display_name": "Python 3 (ipykernel)",
   "language": "python",
   "name": "python3"
  },
  "language_info": {
   "codemirror_mode": {
    "name": "ipython",
    "version": 3
   },
   "file_extension": ".py",
   "mimetype": "text/x-python",
   "name": "python",
   "nbconvert_exporter": "python",
   "pygments_lexer": "ipython3",
   "version": "3.9.12"
  }
 },
 "nbformat": 4,
 "nbformat_minor": 5
}
