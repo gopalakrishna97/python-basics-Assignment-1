{
 "cells": [
  {
   "cell_type": "code",
   "execution_count": 1,
   "id": "34c3d6e5",
   "metadata": {},
   "outputs": [],
   "source": [
    "# 1. What exactly is []?\n",
    "#Ans:  The empty list value, which is a list value that contains no items. This is similar to how '' is the empty string value."
   ]
  },
  {
   "cell_type": "code",
   "execution_count": 4,
   "id": "f14bac00",
   "metadata": {},
   "outputs": [
    {
     "name": "stdout",
     "output_type": "stream",
     "text": [
      "[2, 4, 'hello', 8, 10]\n"
     ]
    }
   ],
   "source": [
    "# 2. In a list of values stored in a variable called spam, how would you assign the value \"hello\" as the\n",
    "# third value? (Assume [2, 4, 6, 8, 10] are in spam.).\n",
    "# Let's pretend the spam includes the list ['a','b','c','d'] for the next three queries.\n",
    "#Ans:\n",
    "spam = [2,4,6,8,10]\n",
    "spam[2] = \"hello\"\n",
    "print(spam)"
   ]
  },
  {
   "cell_type": "code",
   "execution_count": 8,
   "id": "e6e8c6f7",
   "metadata": {},
   "outputs": [
    {
     "data": {
      "text/plain": [
       "2"
      ]
     },
     "execution_count": 8,
     "metadata": {},
     "output_type": "execute_result"
    }
   ],
   "source": [
    "# What is the value of \n",
    "\n",
    "spam[int(int(3 * 2) / 11)]"
   ]
  },
  {
   "cell_type": "code",
   "execution_count": 10,
   "id": "98687eac",
   "metadata": {},
   "outputs": [
    {
     "data": {
      "text/plain": [
       "10"
      ]
     },
     "execution_count": 10,
     "metadata": {},
     "output_type": "execute_result"
    }
   ],
   "source": [
    "# 4. What is the value of \n",
    "\n",
    "spam[-1]"
   ]
  },
  {
   "cell_type": "code",
   "execution_count": 11,
   "id": "f6e96fa1",
   "metadata": {},
   "outputs": [
    {
     "data": {
      "text/plain": [
       "[2, 4]"
      ]
     },
     "execution_count": 11,
     "metadata": {},
     "output_type": "execute_result"
    }
   ],
   "source": [
    "# 5. What is the value of \n",
    "\n",
    "spam[:2]"
   ]
  },
  {
   "cell_type": "code",
   "execution_count": 5,
   "id": "f6926ede",
   "metadata": {},
   "outputs": [
    {
     "data": {
      "text/plain": [
       "1"
      ]
     },
     "execution_count": 5,
     "metadata": {},
     "output_type": "execute_result"
    }
   ],
   "source": [
    "# Let's pretend bacon has the list [3.14, cat, 11, cat, True] for the next three questions.\n",
    "bacon = [3.14, \"cat\", 11, \"cat\", True]\n",
    "# 6. What is the value of \n",
    "bacon.index(\"cat\")"
   ]
  },
  {
   "cell_type": "code",
   "execution_count": 2,
   "id": "71e3a53e",
   "metadata": {},
   "outputs": [
    {
     "name": "stdout",
     "output_type": "stream",
     "text": [
      "[3.14, 'cat', 11, 'cat', True, 99]\n"
     ]
    }
   ],
   "source": [
    "# 7. How does bacon.append(99) change the look of the list value in bacon?\n",
    "bacon = [3.14, \"cat\", 11, \"cat\", True]\n",
    "\n",
    "bacon.append(99)\n",
    "print(bacon)"
   ]
  },
  {
   "cell_type": "code",
   "execution_count": 5,
   "id": "a5098e22",
   "metadata": {},
   "outputs": [
    {
     "name": "stdout",
     "output_type": "stream",
     "text": [
      "[3.14, 11, True, 99]\n"
     ]
    }
   ],
   "source": [
    "#8 How does bacon.remove(\"cat\") change the look of the list in bacon?\n",
    "bacon.remove(\"cat\")\n",
    "print(bacon)"
   ]
  },
  {
   "cell_type": "code",
   "execution_count": null,
   "id": "f72f5f28",
   "metadata": {},
   "outputs": [],
   "source": [
    "# 9. What are the list concatenation and list replication operators?\n",
    "# Ans: The operator for list concatenation is +, while the operator for replication is *. (This is the same as for strings.)"
   ]
  },
  {
   "cell_type": "code",
   "execution_count": 6,
   "id": "f81a8245",
   "metadata": {},
   "outputs": [],
   "source": [
    "# 10. What is difference between the list methods append() and insert()?\n",
    "# Ans: append() method add the input element at the end of list\n",
    "#     insert() method ask for the index number where the input element should be added"
   ]
  },
  {
   "cell_type": "code",
   "execution_count": 7,
   "id": "eabe6df8",
   "metadata": {},
   "outputs": [],
   "source": [
    "# 11. What are the two methods for removing items from a list?\n",
    "\n",
    "# Ans: pop()---this method removes the element by taking index number as input, default it removes last element\n",
    "#     remove()---this mothod removes the element by taking element as input\n",
    "#     clear()---this method removes all the elements of a list and make it empty."
   ]
  },
  {
   "cell_type": "code",
   "execution_count": 8,
   "id": "89feaa26",
   "metadata": {},
   "outputs": [],
   "source": [
    "# 12. Describe how list values and string values are identical.\n",
    "# Ans: Lists are similar to strings, which are ordered collections of characters, \n",
    "#      except that the elements of a list can have any type and for any one list, the items can be of different types. "
   ]
  },
  {
   "cell_type": "code",
   "execution_count": 9,
   "id": "6dd238e8",
   "metadata": {},
   "outputs": [],
   "source": [
    "#13 What's the difference between tuples and lists?\n",
    "\n",
    "# The key difference between the tuples and lists is that while the tuples are immutable objects the lists are mutable.\n",
    "# This means that tuples cannot be changed while the lists can be modified.Tuples are more memory efficient than the lists"
   ]
  },
  {
   "cell_type": "code",
   "execution_count": 11,
   "id": "dc9f99b7",
   "metadata": {},
   "outputs": [
    {
     "data": {
      "text/plain": [
       "tuple"
      ]
     },
     "execution_count": 11,
     "metadata": {},
     "output_type": "execute_result"
    }
   ],
   "source": [
    "# 14. How do you type a tuple value that only contains the integer 42?\n",
    "tuple1= (42,)\n",
    "type(tuple1)"
   ]
  },
  {
   "cell_type": "code",
   "execution_count": 22,
   "id": "36c073e4",
   "metadata": {},
   "outputs": [
    {
     "name": "stdout",
     "output_type": "stream",
     "text": [
      "<class 'tuple'>\n",
      "<class 'list'>\n",
      "<class 'list'>\n",
      "<class 'tuple'>\n"
     ]
    }
   ],
   "source": [
    "# 15. How do you get a list value's tuple form? How do you get a tuple value's list form?\n",
    "# Ans: By doing type casting we can get list value's tuple form and tuple value's list form\n",
    "#example for tuple to list\n",
    "t1 = (1,2,3,4,5,6)\n",
    "print(type(t1))\n",
    "l1=list(t1)\n",
    "print(type(l1))\n",
    "\n",
    "# example for list to tuple\n",
    "l1 = [1,2,3,4,5,6]\n",
    "print(type(l1))\n",
    "t1 = tuple(l1)\n",
    "print(type(t1))"
   ]
  },
  {
   "cell_type": "code",
   "execution_count": null,
   "id": "56869cfb",
   "metadata": {},
   "outputs": [],
   "source": [
    "#16 Variables that \"contain\" list values are not necessarily lists themselves. Instead, what do they\n",
    "# contain?\n",
    "# Ans. They contain references to list values"
   ]
  },
  {
   "cell_type": "code",
   "execution_count": 23,
   "id": "07ba4ad9",
   "metadata": {},
   "outputs": [],
   "source": [
    "#17 How do you distinguish between copy.copy() and copy.deepcopy()?\n",
    "# Ans . The copy.copy() function will do a shallow copy of a list,\n",
    "# The copy.deepcopy() function will do a deep copy of a list. only copy.deepcopy() will duplicate any lists inside the list"
   ]
  }
 ],
 "metadata": {
  "kernelspec": {
   "display_name": "Python 3 (ipykernel)",
   "language": "python",
   "name": "python3"
  },
  "language_info": {
   "codemirror_mode": {
    "name": "ipython",
    "version": 3
   },
   "file_extension": ".py",
   "mimetype": "text/x-python",
   "name": "python",
   "nbconvert_exporter": "python",
   "pygments_lexer": "ipython3",
   "version": "3.9.12"
  }
 },
 "nbformat": 4,
 "nbformat_minor": 5
}
